{
 "cells": [
  {
   "cell_type": "markdown",
   "id": "7849c455-5531-4123-be28-11e8f9d0c02b",
   "metadata": {},
   "source": [
    "# Chapter 1: Variables\n",
    "\n",
    "## What is a Variable?\n",
    "- A variable is a container that stores data in a Python program.\n",
    "- Think of it like a label assigned to a value."
   ]
  },
  {
   "cell_type": "code",
   "execution_count": 1,
   "id": "ba93104a-6555-42c5-876f-e34ca7e935ba",
   "metadata": {},
   "outputs": [
    {
     "name": "stdout",
     "output_type": "stream",
     "text": [
      "Ankush 25 5.9 True\n"
     ]
    }
   ],
   "source": [
    "# Example: Declaring variables\n",
    "name = \"Ankush\"     # String\n",
    "age = 25            # Integer\n",
    "height = 5.9        # Float\n",
    "is_student = True   # Boolean\n",
    "\n",
    "print(name, age, height, is_student)\n"
   ]
  },
  {
   "cell_type": "markdown",
   "id": "be3046cc-61d5-4425-9777-46d1afcdaaf8",
   "metadata": {},
   "source": [
    "## Data Types a Variable Can Store:\n",
    "- `String` → Text data (e.g., \"hello\")\n",
    "- `Integer` → Whole numbers (e.g., 42)\n",
    "- `Float` → Decimal numbers (e.g., 3.14)\n",
    "- `Boolean` → True/False values\n"
   ]
  },
  {
   "cell_type": "code",
   "execution_count": 2,
   "id": "bca168d1-d903-4d3e-b161-7f8df4ffe080",
   "metadata": {},
   "outputs": [
    {
     "name": "stdout",
     "output_type": "stream",
     "text": [
      "<class 'str'>\n",
      "<class 'int'>\n",
      "<class 'float'>\n",
      "<class 'bool'>\n"
     ]
    }
   ],
   "source": [
    "# Checking variable data types\n",
    "print(type(name))       # <class 'str'>\n",
    "print(type(age))        # <class 'int'>\n",
    "print(type(height))     # <class 'float'>\n",
    "print(type(is_student)) # <class 'bool'>\n"
   ]
  },
  {
   "cell_type": "markdown",
   "id": "2ee5bf0a-ff8a-4779-89d4-80feb9c1ee91",
   "metadata": {},
   "source": [
    "## Rules for Naming Variables in Python:\n",
    "1. Cannot use reserved words (e.g., `def`, `True`, `if`) as variable names.\n",
    "2. Must begin with a letter or underscore `_`.\n",
    "3. Cannot contain spaces or special characters like `@`, `#`, `$`, `%`, etc.\n",
    "4. Underscore `_` is valid and can be used anywhere in the name."
   ]
  },
  {
   "cell_type": "code",
   "execution_count": 3,
   "id": "be03e857-4626-41bf-bc39-f6305ea9cef6",
   "metadata": {},
   "outputs": [],
   "source": [
    "# Valid variable names\n",
    "my_var = \"Hello\"\n",
    "_myvar2 = 100\n",
    "user_name = \"ankush\"\n",
    "\n",
    "# Invalid variable names (will cause SyntaxError if you try to run them)\n",
    "# 2cool = \"nope\"\n",
    "# def = \"error\"\n",
    "# user-name = \"invalid\""
   ]
  },
  {
   "cell_type": "markdown",
   "id": "826ebca2-e910-446e-9063-81257c050297",
   "metadata": {},
   "source": [
    "# Chapter 2: Data Types, Operators, and Type Casting\n",
    "\n",
    "## Integer and Float\n",
    "- **Integer (`int`)**: Stores whole numbers without a decimal part (e.g., `57`)\n",
    "- **Float (`float`)**: Stores numbers with decimal parts (e.g., `57.23`)\n"
   ]
  },
  {
   "cell_type": "code",
   "execution_count": 4,
   "id": "24f88d05-e5b5-407e-bc73-367658d206b2",
   "metadata": {},
   "outputs": [
    {
     "name": "stdout",
     "output_type": "stream",
     "text": [
      "<class 'int'>\n",
      "<class 'float'>\n"
     ]
    }
   ],
   "source": [
    "# Integer and Float examples\n",
    "x = 57         # Integer\n",
    "y = 57.23      # Float\n",
    "\n",
    "print(type(x))  # <class 'int'>\n",
    "print(type(y))  # <class 'float'>\n"
   ]
  },
  {
   "cell_type": "markdown",
   "id": "bfd08139-8c80-43db-9625-b0f13c634ddc",
   "metadata": {},
   "source": [
    "## BODMAS Rule in Python\n",
    "\n",
    "Python follows the **BODMAS** rule for evaluating expressions:\n",
    "- **B** → Brackets `()`\n",
    "- **O** → Orders (powers and roots, e.g., `**`, `math.sqrt()`)\n",
    "- **D** and **M** → Division `/`, Floor Division `//`, Modulus `%`, and Multiplication `*`\n",
    "- **A** and **S** → Addition `+` and Subtraction `-`\n",
    "\n",
    "Operations are evaluated from **left to right** for operators of the same precedence.\n"
   ]
  },
  {
   "cell_type": "code",
   "execution_count": 11,
   "id": "a9b20880-2c52-4edf-b39d-6f9a107d0aab",
   "metadata": {},
   "outputs": [
    {
     "name": "stdout",
     "output_type": "stream",
     "text": [
      "20\n",
      "30\n"
     ]
    }
   ],
   "source": [
    "# BODMAS in action\n",
    "result = 10 + 5 * 2        # 5*2 = 10 → 10+10 = 20\n",
    "print(result)              # Output: 20\n",
    "\n",
    "result = (10 + 5) * 2      # 10+5 = 15 → 15*2 = 30\n",
    "print(result)              # Output: 30\n"
   ]
  },
  {
   "cell_type": "markdown",
   "id": "73f5d268-19c7-4ba2-a759-2e828e91bae8",
   "metadata": {},
   "source": [
    "## Operators\n",
    "\n",
    "### Division\n",
    "- `/` → Regular division (returns float)\n",
    "- `//` → Floor division (returns integer part of result)\n"
   ]
  },
  {
   "cell_type": "code",
   "execution_count": 5,
   "id": "4570132e-aaf8-433f-a7e6-17b071bbea70",
   "metadata": {},
   "outputs": [
    {
     "name": "stdout",
     "output_type": "stream",
     "text": [
      "3.3333333333333335\n",
      "3\n"
     ]
    }
   ],
   "source": [
    "# Division examples\n",
    "print(10 / 3)   # 3.333333...\n",
    "print(10 // 3)  # 3 (floor division)\n"
   ]
  },
  {
   "cell_type": "markdown",
   "id": "792c0512-ffde-4e58-9fb0-2d5768a006db",
   "metadata": {},
   "source": [
    "### Modulo\n",
    "- `%` → Modulo operator (returns remainder)\n"
   ]
  },
  {
   "cell_type": "code",
   "execution_count": 6,
   "id": "1bf8d579-005f-4032-a31a-aab3b7573ba2",
   "metadata": {},
   "outputs": [
    {
     "name": "stdout",
     "output_type": "stream",
     "text": [
      "1\n"
     ]
    }
   ],
   "source": [
    "print(10 % 3)  # Output: 1\n"
   ]
  },
  {
   "cell_type": "markdown",
   "id": "da0d2b4a-17f7-45c3-878f-71b2edfc53ce",
   "metadata": {},
   "source": [
    "### Exponentiation\n",
    "- `x ** y` → x raised to the power of y\n"
   ]
  },
  {
   "cell_type": "code",
   "execution_count": 7,
   "id": "ac3a7b1a-745a-402d-bb19-b6ec0cfddd6a",
   "metadata": {},
   "outputs": [
    {
     "name": "stdout",
     "output_type": "stream",
     "text": [
      "8\n"
     ]
    }
   ],
   "source": [
    "print(2 ** 3)  # Output: 8 (2^3)\n"
   ]
  },
  {
   "cell_type": "markdown",
   "id": "45614412-0c83-45b8-b029-9140f718e9d3",
   "metadata": {},
   "source": [
    "## Type Casting\n",
    "- Use built-in functions to change data types:\n",
    "  - `int()` → Convert to integer\n",
    "  - `float()` → Convert to float\n",
    "  - `str()` → Convert to string\n"
   ]
  },
  {
   "cell_type": "code",
   "execution_count": 8,
   "id": "b760804a-a3f2-4dcd-9009-ae9818fa802f",
   "metadata": {},
   "outputs": [
    {
     "name": "stdout",
     "output_type": "stream",
     "text": [
      "10.2\n",
      "7\n",
      "100\n"
     ]
    }
   ],
   "source": [
    "# Type casting examples\n",
    "print(float(\"10.2\"))   # Output: 10.2\n",
    "print(int(7.9))        # Output: 7\n",
    "print(str(100))        # Output: \"100\"\n"
   ]
  },
  {
   "cell_type": "markdown",
   "id": "4a9d9c2e-955c-4be5-8fcc-98cbe6ce19b7",
   "metadata": {},
   "source": [
    "## The `math` Module\n",
    "- Python's built-in math module includes useful mathematical functions:\n",
    "  - `math.sqrt(x)` → Square root of x\n",
    "  - `math.floor(x)` → Rounds down to nearest whole number\n",
    "  - `math.ceil(x)` → Rounds up to nearest whole number\n",
    "- You must `import math` before using it.\n"
   ]
  },
  {
   "cell_type": "code",
   "execution_count": 10,
   "id": "a3545897-dc39-40f8-8c50-c58801d78f47",
   "metadata": {},
   "outputs": [
    {
     "name": "stdout",
     "output_type": "stream",
     "text": [
      "4.0\n",
      "7\n",
      "8\n"
     ]
    }
   ],
   "source": [
    "import math\n",
    "\n",
    "print(math.sqrt(16))     # Output: 4.0\n",
    "print(math.floor(7.9))   # Output: 7\n",
    "print(math.ceil(7.1))    # Output: 8\n"
   ]
  },
  {
   "cell_type": "markdown",
   "id": "1dacf417-69fd-43fc-8858-1b63eb9caa43",
   "metadata": {},
   "source": [
    "# Chapter 3: Strings in Python\n",
    "\n",
    "## Strings are Immutable\n",
    "- In Python, **strings are immutable**, meaning once created, their content cannot be changed.\n",
    "- You cannot modify an individual character of a string.\n"
   ]
  },
  {
   "cell_type": "code",
   "execution_count": 12,
   "id": "e52d1448-0409-459e-92c3-b2a80c6f3503",
   "metadata": {},
   "outputs": [],
   "source": [
    "name = \"Ankush\"\n",
    "# Trying to modify a string character will raise an error\n",
    "# name[0] = \"a\"   # Uncommenting this line will raise a TypeError\n"
   ]
  },
  {
   "cell_type": "markdown",
   "id": "eb503a4e-fb56-4a60-9dbe-0a65b33563e8",
   "metadata": {},
   "source": [
    "## Accessing Specific Characters or Substrings\n",
    "- **Indexing**: Access individual characters by their index. Index starts at 0.\n",
    "- **Slicing**: Extract a substring using the slice notation `[start:end]`.\n",
    "\n",
    "### Examples:\n",
    "- `name[0]` → First character (`A`)\n",
    "- `name[1:5]` → Substring from index 1 to 4 (`nkus`)\n"
   ]
  },
  {
   "cell_type": "code",
   "execution_count": 13,
   "id": "5aac6eca-4049-42d8-8342-a50b3747e5a7",
   "metadata": {},
   "outputs": [
    {
     "name": "stdout",
     "output_type": "stream",
     "text": [
      "A\n",
      "u\n",
      "nkus\n",
      "Ank\n",
      "ush\n"
     ]
    }
   ],
   "source": [
    "name = \"Ankush\"\n",
    "\n",
    "# Indexing to access specific characters\n",
    "print(name[0])   # Output: A\n",
    "print(name[3])   # Output: u\n",
    "\n",
    "# Slicing to extract a substring\n",
    "print(name[1:5])  # Output: nkus\n",
    "print(name[:3])   # Output: Ank\n",
    "print(name[3:])   # Output: ush"
   ]
  },
  {
   "cell_type": "markdown",
   "id": "78f4d265-fd20-4090-bc60-a36b98f735a5",
   "metadata": {},
   "source": [
    "## String Formatting\n",
    "- **f-strings** (formatted string literals) are a more readable and efficient way to embed expressions inside string literals.\n",
    "- Example: `f\"Hello, {name}\"` for inserting variables into strings.\n"
   ]
  },
  {
   "cell_type": "code",
   "execution_count": 15,
   "id": "e631c492-472b-4ad3-b6a7-21096ec6f70f",
   "metadata": {},
   "outputs": [
    {
     "name": "stdout",
     "output_type": "stream",
     "text": [
      "Hello, Ankush. You are 25 years old.\n"
     ]
    }
   ],
   "source": [
    "name = \"Ankush\"\n",
    "age = 25\n",
    "\n",
    "# Using f-string formatting\n",
    "greeting = f\"Hello, {name}. You are {age} years old.\"\n",
    "print(greeting)  # Output: Hello, Ankush. You are 25 years old.\n"
   ]
  },
  {
   "cell_type": "markdown",
   "id": "3d853303-7688-4bb5-96ce-03dc6b4d81df",
   "metadata": {},
   "source": [
    "## Important String Methods\n",
    "\n",
    "### `.upper()`\n",
    "- Converts all characters in the string to uppercase.\n",
    "\n",
    "### `.lower()`\n",
    "- Converts all characters in the string to lowercase.\n",
    "\n",
    "### `.title()`\n",
    "- Capitalizes the first character of each word in the string.\n",
    "\n",
    "### `.capitalize()`\n",
    "- Capitalizes the first character of the string and makes all other characters lowercase.\n",
    "\n",
    "### `.split()`\n",
    "- Splits the string into a list based on a separator (default is space).\n",
    "\n",
    "### `.join()`\n",
    "- Joins elements of an iterable (like a list) into a single string with a separator.\n",
    "\n",
    "### `.strip()`\n",
    "- Removes leading and trailing whitespace from the string.\n",
    "\n",
    "### `.replace()`\n",
    "- Replaces a substring within the string with another substring.\n",
    "\n",
    "### `.find()`\n",
    "- Returns the lowest index of the substring if found, otherwise returns `-1`.\n",
    "\n",
    "### `.count()`\n",
    "- Returns the number of occurrences of a substring in the string.\n"
   ]
  },
  {
   "cell_type": "code",
   "execution_count": 16,
   "id": "4b69b8d2-d73e-4e7b-82ee-445e6174a1ef",
   "metadata": {},
   "outputs": [
    {
     "name": "stdout",
     "output_type": "stream",
     "text": [
      "  HELLO, WORLD!  \n",
      "  hello, world!  \n",
      "  Hello, World!  \n",
      "  hello, world!  \n",
      "['Hello,', 'World!']\n",
      "Hello, World!\n",
      "  Hello, Python!  \n",
      "9\n",
      "2\n",
      "Hello, World\n"
     ]
    }
   ],
   "source": [
    "text = \"  Hello, World!  \"\n",
    "\n",
    "# Converting to uppercase and lowercase\n",
    "print(text.upper())      # Output: \"  HELLO, WORLD!  \"\n",
    "print(text.lower())      # Output: \"  hello, world!  \"\n",
    "print(text.title())      # Output: \"  Hello, World!  \"\n",
    "print(text.capitalize()) # Output: \"  hello, world!  \"\n",
    "\n",
    "# Splitting the string into a list of words\n",
    "print(text.split())      # Output: ['Hello,', 'World!']\n",
    "\n",
    "# Stripping leading and trailing whitespaces\n",
    "print(text.strip())      # Output: \"Hello, World!\"\n",
    "\n",
    "# Replacing substring\n",
    "print(text.replace(\"World\", \"Python\"))  # Output: \"  Hello, Python!  \"\n",
    "\n",
    "# Finding substring's index\n",
    "print(text.find(\"World\"))  # Output: 9\n",
    "\n",
    "# Counting occurrences of a substring\n",
    "print(text.count(\"o\"))     # Output: 2\n",
    "\n",
    "# Joining a list into a string\n",
    "words = [\"Hello\", \"World\"]\n",
    "joined_text = \", \".join(words)  # Output: \"Hello, World\"\n",
    "print(joined_text)\n"
   ]
  },
  {
   "cell_type": "markdown",
   "id": "8ceaa31e-c711-459d-9698-16319242e025",
   "metadata": {},
   "source": [
    "# Chapter 4: Lists in Python\n",
    "\n",
    "## What is a List?\n",
    "- A **list** in Python is used to store a collection of items.\n",
    "- Lists are **ordered**, meaning each element has a specific index.\n",
    "- Lists are **mutable**, meaning you can change their content after creation.\n",
    "- Lists can be **heterogeneous**, storing different data types including other lists.\n"
   ]
  },
  {
   "cell_type": "code",
   "execution_count": 17,
   "id": "ca600409-df69-4d57-be8c-e8ac4eafaa35",
   "metadata": {},
   "outputs": [
    {
     "name": "stdout",
     "output_type": "stream",
     "text": [
      "['car', 4.5, True, [1, 2, 3]]\n"
     ]
    }
   ],
   "source": [
    "# Creating a list with multiple data types\n",
    "my_list = [\"car\", 4.5, True, [1, 2, 3]]\n",
    "print(my_list)  # Output: ['car', 4.5, True, [1, 2, 3]]\n"
   ]
  },
  {
   "cell_type": "markdown",
   "id": "d45d22a5-72fd-4c40-9989-004a7a3a3da6",
   "metadata": {},
   "source": [
    "## List Slicing\n",
    "- Syntax: `list[start:end:step]`\n",
    "- Used to access specific sections of the list.\n",
    "\n",
    "> `start` → starting index (inclusive)  \n",
    "> `end` → stopping index (exclusive)  \n",
    "> `step` → interval between elements\n"
   ]
  },
  {
   "cell_type": "code",
   "execution_count": 18,
   "id": "5613f815-fd96-4bde-907f-89aca4061c59",
   "metadata": {},
   "outputs": [
    {
     "name": "stdout",
     "output_type": "stream",
     "text": [
      "[20, 30, 40]\n",
      "[10, 20, 30]\n",
      "[40, 50, 60, 70]\n",
      "[10, 30, 50, 70]\n",
      "[70, 60, 50, 40, 30, 20, 10]\n"
     ]
    }
   ],
   "source": [
    "numbers = [10, 20, 30, 40, 50, 60, 70]\n",
    "\n",
    "print(numbers[1:4])     # Output: [20, 30, 40]\n",
    "print(numbers[:3])      # Output: [10, 20, 30]\n",
    "print(numbers[3:])      # Output: [40, 50, 60, 70]\n",
    "print(numbers[::2])     # Output: [10, 30, 50, 70]\n",
    "print(numbers[::-1])    # Output: [70, 60, 50, 40, 30, 20, 10] (reversed list)\n"
   ]
  },
  {
   "cell_type": "markdown",
   "id": "6774becd-8469-4396-b316-69dc4eb36239",
   "metadata": {},
   "source": [
    "## Useful List Methods\n",
    "\n",
    "| Method         | Description                                      |\n",
    "|----------------|--------------------------------------------------|\n",
    "| `.append(x)`   | Adds an item `x` to the end of the list          |\n",
    "| `.extend(iter)`| Adds multiple elements from iterable             |\n",
    "| `.insert(i, x)`| Inserts item `x` at index `i`                    |\n",
    "| `.remove(x)`   | Removes the first item with value `x`            |\n",
    "| `.pop(i)`      | Removes item at index `i` (default: last)        |\n",
    "| `.index(x)`    | Returns the index of the first item with value `x` |\n",
    "| `.count(x)`    | Counts the number of times `x` occurs            |\n",
    "| `.sort()`      | Sorts the list in ascending order                |\n",
    "| `.reverse()`   | Reverses the list                                |\n",
    "| `.clear()`     | Removes all elements from the list               |\n"
   ]
  },
  {
   "cell_type": "code",
   "execution_count": 19,
   "id": "57857a3b-8f74-4f3e-8c7d-fecabc85fcc1",
   "metadata": {},
   "outputs": [
    {
     "name": "stdout",
     "output_type": "stream",
     "text": [
      "2\n",
      "1\n",
      "['cherry', 'blueberry', 'apple']\n"
     ]
    }
   ],
   "source": [
    "# Demo of list methods\n",
    "fruits = [\"apple\", \"banana\", \"cherry\"]\n",
    "\n",
    "fruits.append(\"date\")         # ['apple', 'banana', 'cherry', 'date']\n",
    "fruits.insert(1, \"blueberry\") # ['apple', 'blueberry', 'banana', 'cherry', 'date']\n",
    "fruits.remove(\"banana\")       # ['apple', 'blueberry', 'cherry', 'date']\n",
    "fruits.pop()                  # Removes 'date'\n",
    "print(fruits.index(\"cherry\")) # Output: 2\n",
    "print(fruits.count(\"apple\"))  # Output: 1\n",
    "\n",
    "fruits.sort()                 # ['apple', 'blueberry', 'cherry']\n",
    "fruits.reverse()              # ['cherry', 'blueberry', 'apple']\n",
    "print(fruits)\n"
   ]
  },
  {
   "cell_type": "markdown",
   "id": "4ca4dcad-724e-476b-b682-7f0286ab57b3",
   "metadata": {},
   "source": [
    "## List Concatenation\n",
    "\n",
    "- You can **combine two or more lists** using the `+` operator.\n",
    "- This creates a **new list** without modifying the original ones.\n",
    "- You can also use `*` to repeat list items.\n"
   ]
  },
  {
   "cell_type": "code",
   "execution_count": 23,
   "id": "9993f8d5-3936-49b7-b0b5-891ecd719bd0",
   "metadata": {},
   "outputs": [
    {
     "name": "stdout",
     "output_type": "stream",
     "text": [
      "[1, 2, 3, 4, 5, 6]\n",
      "[1, 2, 3, 1, 2, 3]\n"
     ]
    }
   ],
   "source": [
    "# Concatenating lists using +\n",
    "list1 = [1, 2, 3]\n",
    "list2 = [4, 5, 6]\n",
    "\n",
    "combined = list1 + list2\n",
    "print(combined)  # Output: [1, 2, 3, 4, 5, 6]\n",
    "\n",
    "# Repeating list elements\n",
    "repeated = list1 * 2\n",
    "print(repeated)  # Output: [1, 2, 3, 1, 2, 3]\n"
   ]
  },
  {
   "cell_type": "markdown",
   "id": "4c6d8914-3cc8-45e1-8f79-72734cddd2f4",
   "metadata": {},
   "source": [
    "# Chapter 5: Conditional Statements (if, elif, else)\n",
    "\n",
    "- Conditional statements control the **flow of a program** by executing code only when certain conditions are true.\n",
    "- Python uses `if`, `elif`, and `else` to implement decision-making logic.\n"
   ]
  },
  {
   "cell_type": "code",
   "execution_count": 21,
   "id": "4cf362b9-d63f-45b0-b698-a4916746c825",
   "metadata": {},
   "outputs": [
    {
     "name": "stdout",
     "output_type": "stream",
     "text": [
      "You're eligible to vote.\n"
     ]
    }
   ],
   "source": [
    "# Simple if statement\n",
    "age = 18\n",
    "\n",
    "if age >= 18:\n",
    "    print(\"You're eligible to vote.\")\n"
   ]
  },
  {
   "cell_type": "markdown",
   "id": "2db4807d-55d6-4f0d-9a67-40ca97a79964",
   "metadata": {},
   "source": [
    "## if-elif-else Structure\n",
    "\n",
    "- Use `elif` (short for \"else if\") to check **multiple conditions**.\n",
    "- Use `else` as a **fallback** when no conditions are met.\n"
   ]
  },
  {
   "cell_type": "code",
   "execution_count": 24,
   "id": "7f35d6f9-381b-46c6-8499-8f48ad6e8abc",
   "metadata": {},
   "outputs": [
    {
     "name": "stdout",
     "output_type": "stream",
     "text": [
      "Grade: C\n"
     ]
    }
   ],
   "source": [
    "marks = 72\n",
    "\n",
    "if marks >= 90:\n",
    "    print(\"Grade: A\")\n",
    "elif marks >= 75:\n",
    "    print(\"Grade: B\")\n",
    "elif marks >= 60:\n",
    "    print(\"Grade: C\")\n",
    "else:\n",
    "    print(\"Grade: D\")\n"
   ]
  },
  {
   "cell_type": "markdown",
   "id": "273f39a6-e3bd-40f0-99f9-e31f5fd13897",
   "metadata": {},
   "source": [
    "## Logical Operators\n",
    "\n",
    "| Operator | Description                     | Example                          |\n",
    "|----------|---------------------------------|----------------------------------|\n",
    "| `and`    | True if both conditions are true| `a > 10 and a < 20`              |\n",
    "| `or`     | True if at least one is true    | `a < 5 or b > 10`                |\n",
    "| `not`    | Negates the condition           | `not (a == b)`                   |\n"
   ]
  },
  {
   "cell_type": "code",
   "execution_count": 25,
   "id": "1c4b923a-4e00-4f07-a760-19f70c68da07",
   "metadata": {},
   "outputs": [
    {
     "name": "stdout",
     "output_type": "stream",
     "text": [
      "Go for a walk!\n"
     ]
    }
   ],
   "source": [
    "# Example with logical operators\n",
    "temperature = 30\n",
    "is_sunny = True\n",
    "\n",
    "if temperature > 25 and is_sunny:\n",
    "    print(\"Go for a walk!\")\n",
    "\n",
    "if temperature < 15 or not is_sunny:\n",
    "    print(\"Stay indoors.\")\n"
   ]
  },
  {
   "cell_type": "markdown",
   "id": "14276bc4-be69-4299-826c-014a7f0f99b8",
   "metadata": {},
   "source": [
    "## Nested if Statements\n",
    "\n",
    "- `if` statements can be **nested** inside other `if` blocks for layered decision-making.\n"
   ]
  },
  {
   "cell_type": "code",
   "execution_count": 26,
   "id": "fc9765d4-f6ad-4020-8bd2-ddd61976201c",
   "metadata": {},
   "outputs": [
    {
     "name": "stdout",
     "output_type": "stream",
     "text": [
      "Access granted.\n"
     ]
    }
   ],
   "source": [
    "# Nested if example\n",
    "user = \"admin\"\n",
    "password = \"1234\"\n",
    "\n",
    "if user == \"admin\":\n",
    "    if password == \"1234\":\n",
    "        print(\"Access granted.\")\n",
    "    else:\n",
    "        print(\"Incorrect password.\")\n",
    "else:\n",
    "    print(\"Unknown user.\")\n"
   ]
  },
  {
   "cell_type": "markdown",
   "id": "2af21c63-25f3-4a9c-ab1f-80d9d2c64e1e",
   "metadata": {},
   "source": [
    "# Chapter 6: Loops in Python\n",
    "\n",
    "Loops are used to execute a block of code repeatedly.\n",
    "\n",
    "## for Loops\n",
    "\n",
    "- Used to **iterate over a sequence** (like list, tuple, string).\n",
    "- Often used with the `range()` function to run for a fixed number of steps.\n"
   ]
  },
  {
   "cell_type": "code",
   "execution_count": 27,
   "id": "6d347b9c-bcf3-4caa-b52d-4a6f1e99aeea",
   "metadata": {},
   "outputs": [
    {
     "name": "stdout",
     "output_type": "stream",
     "text": [
      "apple\n",
      "banana\n",
      "cherry\n"
     ]
    }
   ],
   "source": [
    "# Iterating over a list\n",
    "fruits = [\"apple\", \"banana\", \"cherry\"]\n",
    "for fruit in fruits:\n",
    "    print(fruit)\n"
   ]
  },
  {
   "cell_type": "markdown",
   "id": "dacec3ae-57af-4d4c-add0-d9701c76a425",
   "metadata": {},
   "source": [
    "## Using range() with for loops\n",
    "\n",
    "- The `range()` function generates a **sequence of numbers**, useful when looping a specific number of times.\n",
    "- Syntax: `range(start, stop, step)`\n"
   ]
  },
  {
   "cell_type": "code",
   "execution_count": 29,
   "id": "bbc9bc89-4e9e-437e-b773-7b27960bc6be",
   "metadata": {},
   "outputs": [
    {
     "name": "stdout",
     "output_type": "stream",
     "text": [
      "0\n",
      "1\n",
      "2\n",
      "3\n",
      "4\n",
      "1\n",
      "3\n",
      "5\n",
      "7\n",
      "9\n"
     ]
    }
   ],
   "source": [
    "# Using range to print numbers from 0 to 4\n",
    "for i in range(5):\n",
    "    print(i)\n",
    "\n",
    "# Using range with start and step\n",
    "for i in range(1, 10, 2):\n",
    "    print(i)  # Prints odd numbers between 1 and 9\n"
   ]
  },
  {
   "cell_type": "markdown",
   "id": "266e2875-d419-4f4d-a832-6668c93fb86e",
   "metadata": {},
   "source": [
    "## while Loops\n",
    "\n",
    "- Executes a block of code **as long as a condition is true**.\n"
   ]
  },
  {
   "cell_type": "code",
   "execution_count": 30,
   "id": "5bf717cd-2372-4168-b5f7-2ca2fef53a92",
   "metadata": {},
   "outputs": [
    {
     "name": "stdout",
     "output_type": "stream",
     "text": [
      "Count is: 0\n",
      "Count is: 1\n",
      "Count is: 2\n",
      "Count is: 3\n",
      "Count is: 4\n"
     ]
    }
   ],
   "source": [
    "# Example: while loop\n",
    "count = 0\n",
    "while count < 5:\n",
    "    print(\"Count is:\", count)\n",
    "    count += 1\n"
   ]
  },
  {
   "cell_type": "markdown",
   "id": "e1d83ab3-c487-48bc-8f96-c4cdb5e56681",
   "metadata": {},
   "source": [
    "⚠️ Caution:\n",
    "- Always make sure the condition in `while` loop **will eventually become false** to avoid infinite loops.\n"
   ]
  },
  {
   "cell_type": "markdown",
   "id": "4cae8aa8-fc6d-4372-9cfd-c574196c6505",
   "metadata": {},
   "source": [
    "## Loop Control Statements\n",
    "\n",
    "- `break`: Terminates the loop completely.\n",
    "- `continue`: Skips the current iteration and jumps to the next.\n"
   ]
  },
  {
   "cell_type": "code",
   "execution_count": 31,
   "id": "34157fed-2b4f-4367-bef0-ed94020a5f38",
   "metadata": {},
   "outputs": [
    {
     "name": "stdout",
     "output_type": "stream",
     "text": [
      "1\n",
      "2\n",
      "3\n",
      "1\n",
      "2\n",
      "4\n",
      "5\n"
     ]
    }
   ],
   "source": [
    "# break example\n",
    "for i in range(1, 6):\n",
    "    if i == 4:\n",
    "        break\n",
    "    print(i)\n",
    "\n",
    "# continue example\n",
    "for i in range(1, 6):\n",
    "    if i == 3:\n",
    "        continue\n",
    "    print(i)\n"
   ]
  },
  {
   "cell_type": "markdown",
   "id": "c635749d-7fb8-437a-b78d-c5664db78a2e",
   "metadata": {},
   "source": [
    "## enumerate() in for loops\n",
    "\n",
    "- `enumerate()` returns **index and element** in a loop.\n"
   ]
  },
  {
   "cell_type": "code",
   "execution_count": 32,
   "id": "c6e17e74-5c34-4790-8d8a-643a82c7fc33",
   "metadata": {},
   "outputs": [
    {
     "name": "stdout",
     "output_type": "stream",
     "text": [
      "0: red\n",
      "1: green\n",
      "2: blue\n"
     ]
    }
   ],
   "source": [
    "colors = [\"red\", \"green\", \"blue\"]\n",
    "for index, color in enumerate(colors):\n",
    "    print(f\"{index}: {color}\")\n"
   ]
  },
  {
   "cell_type": "markdown",
   "id": "4ddcec48-32b1-4312-bab0-aff89cc65231",
   "metadata": {},
   "source": [
    "# Chapter 7: Functions in Python\n",
    "\n",
    "Functions are reusable blocks of code that perform a specific task.\n"
   ]
  },
  {
   "cell_type": "markdown",
   "id": "ee566948-c149-440a-981c-03309d6ebe31",
   "metadata": {},
   "source": [
    "## 1. Defining a Function\n",
    "\n",
    "- Use the `def` keyword followed by the function name and parentheses.\n"
   ]
  },
  {
   "cell_type": "code",
   "execution_count": 35,
   "id": "e339e780-22a3-4d1b-a6ab-a4e1553e5866",
   "metadata": {},
   "outputs": [
    {
     "name": "stdout",
     "output_type": "stream",
     "text": [
      "Hello!\n"
     ]
    }
   ],
   "source": [
    "def greet():\n",
    "    print(\"Hello!\")\n",
    "\n",
    "greet()"
   ]
  },
  {
   "cell_type": "markdown",
   "id": "b0bf6e4a-2d03-45ab-9183-1a1dc24bc285",
   "metadata": {},
   "source": [
    "## 2. Parameters and Arguments\n",
    "\n",
    "- Parameters are defined in the function.\n",
    "- Arguments are values passed when calling the function.\n"
   ]
  },
  {
   "cell_type": "code",
   "execution_count": 36,
   "id": "016b8464-5bb9-40f0-ad0c-c55d6281d0a0",
   "metadata": {},
   "outputs": [
    {
     "name": "stdout",
     "output_type": "stream",
     "text": [
      "Hello, Ankush!\n"
     ]
    }
   ],
   "source": [
    "def greet_user(name):\n",
    "    print(f\"Hello, {name}!\")\n",
    "\n",
    "greet_user(\"Ankush\")"
   ]
  },
  {
   "cell_type": "markdown",
   "id": "88e8a53c-6b97-4f34-afe1-7de84a9f7934",
   "metadata": {},
   "source": [
    "## 3. Return Statement\n",
    "\n",
    "- The `return` statement sends a value back to the caller.\n"
   ]
  },
  {
   "cell_type": "code",
   "execution_count": 37,
   "id": "bc3836aa-f35e-41f7-8d7a-0b7e37cc433e",
   "metadata": {},
   "outputs": [
    {
     "name": "stdout",
     "output_type": "stream",
     "text": [
      "Result: 8\n"
     ]
    }
   ],
   "source": [
    "def add(a, b):\n",
    "    return a + b\n",
    "\n",
    "result = add(5, 3)\n",
    "print(\"Result:\", result)\n"
   ]
  },
  {
   "cell_type": "markdown",
   "id": "b8fafd67-3a08-44bb-9ec3-af9abd42a7fd",
   "metadata": {},
   "source": [
    "## 4. Default Parameters\n",
    "\n",
    "- Assign default values in the parameter list.\n"
   ]
  },
  {
   "cell_type": "code",
   "execution_count": 38,
   "id": "07d71f48-4e56-4766-b31b-a815ad050830",
   "metadata": {},
   "outputs": [
    {
     "name": "stdout",
     "output_type": "stream",
     "text": [
      "Welcome, Guest!\n",
      "Welcome, Ankush!\n"
     ]
    }
   ],
   "source": [
    "def greet(name=\"Guest\"):\n",
    "    print(f\"Welcome, {name}!\")\n",
    "\n",
    "greet()\n",
    "greet(\"Ankush\")\n"
   ]
  },
  {
   "cell_type": "markdown",
   "id": "2784e2d3-c1a2-4d5b-9553-0c3aeb14ac3b",
   "metadata": {},
   "source": [
    "## 5. Arbitrary Arguments (*args)\n",
    "\n",
    "- Use `*args` to accept variable number of **non-keyword** arguments (tuple).\n"
   ]
  },
  {
   "cell_type": "code",
   "execution_count": 39,
   "id": "d4c7a851-bd4d-42cd-acc0-bc500d20e725",
   "metadata": {},
   "outputs": [
    {
     "name": "stdout",
     "output_type": "stream",
     "text": [
      "1\n",
      "2\n",
      "3\n",
      "4\n"
     ]
    }
   ],
   "source": [
    "def print_numbers(*args):\n",
    "    for num in args:\n",
    "        print(num)\n",
    "\n",
    "print_numbers(1, 2, 3, 4)\n"
   ]
  },
  {
   "cell_type": "markdown",
   "id": "ecd80e14-dcfb-4072-9066-c44e87f6697b",
   "metadata": {},
   "source": [
    "## 6. Keyword Arguments\n",
    "\n",
    "- Keyword arguments are passed using key=value syntax."
   ]
  },
  {
   "cell_type": "code",
   "execution_count": 40,
   "id": "94524987-7758-4ac8-b4b1-92d6fe4eb7d3",
   "metadata": {},
   "outputs": [
    {
     "name": "stdout",
     "output_type": "stream",
     "text": [
      "I have a dog named Buddy.\n"
     ]
    }
   ],
   "source": [
    "def describe_pet(animal, name):\n",
    "    print(f\"I have a {animal} named {name}.\")\n",
    "\n",
    "describe_pet(animal=\"dog\", name=\"Buddy\")\n"
   ]
  },
  {
   "cell_type": "markdown",
   "id": "ea79a0a2-3644-4a43-99a2-2339da654487",
   "metadata": {},
   "source": [
    "## 7. Arbitrary Keyword Arguments (**kwargs)\n",
    "\n",
    "- Use `**kwargs` to accept variable number of **keyword** arguments (dictionary)."
   ]
  },
  {
   "cell_type": "code",
   "execution_count": 41,
   "id": "577631ea-2f9a-4c00-b3cb-af3263387953",
   "metadata": {},
   "outputs": [
    {
     "name": "stdout",
     "output_type": "stream",
     "text": [
      "name: Ankush\n",
      "age: 25\n",
      "city: Bangalore\n"
     ]
    }
   ],
   "source": [
    "def print_user_info(**kwargs):\n",
    "    for key, value in kwargs.items():\n",
    "        print(f\"{key}: {value}\")\n",
    "\n",
    "print_user_info(name=\"Ankush\", age=25, city=\"Bangalore\")\n"
   ]
  },
  {
   "cell_type": "markdown",
   "id": "053a6352-dfdc-4228-aaf2-8c0ee8b1ee44",
   "metadata": {},
   "source": [
    "## 8. Lambda Functions (Anonymous Functions)\n",
    "\n",
    "- `lambda` creates small, one-line anonymous functions.\n",
    "- Syntax: `lambda arguments: expression`\n"
   ]
  },
  {
   "cell_type": "code",
   "execution_count": 42,
   "id": "c69ef8b4-e3f7-4ae5-8939-fea6daea07f4",
   "metadata": {},
   "outputs": [
    {
     "name": "stdout",
     "output_type": "stream",
     "text": [
      "25\n",
      "25\n",
      "7\n"
     ]
    }
   ],
   "source": [
    "# Regular function\n",
    "def square(x):\n",
    "    return x * x\n",
    "\n",
    "print(square(5))\n",
    "\n",
    "# Lambda function\n",
    "square_lambda = lambda x: x * x\n",
    "print(square_lambda(5))\n",
    "\n",
    "# Lambda with multiple arguments\n",
    "add = lambda x, y: x + y\n",
    "print(add(3, 4))\n"
   ]
  },
  {
   "cell_type": "markdown",
   "id": "2993b211-d4d4-4f96-a431-05f29a604321",
   "metadata": {},
   "source": [
    "## 9. Variable Scope in Python\n",
    "\n",
    "- **Local Scope**: Inside the function.\n",
    "- **Global Scope**: Outside the function, available throughout the program."
   ]
  },
  {
   "cell_type": "code",
   "execution_count": 43,
   "id": "0228dd96-79f7-4b15-a132-a6538437c4fb",
   "metadata": {},
   "outputs": [
    {
     "name": "stdout",
     "output_type": "stream",
     "text": [
      "Inside function: 5\n",
      "Outside function: 10\n"
     ]
    }
   ],
   "source": [
    "x = 10  # Global variable\n",
    "\n",
    "def my_function():\n",
    "    x = 5  # Local variable\n",
    "    print(\"Inside function:\", x)\n",
    "\n",
    "my_function()\n",
    "print(\"Outside function:\", x)\n"
   ]
  },
  {
   "cell_type": "markdown",
   "id": "07dfa90b-5602-49a7-bc29-6003e38f3017",
   "metadata": {},
   "source": [
    "### Using `global` Keyword\n",
    "\n",
    "- Modify a global variable from within a function."
   ]
  },
  {
   "cell_type": "code",
   "execution_count": 45,
   "id": "1014a055-c950-4149-88e2-cca34857bd24",
   "metadata": {},
   "outputs": [
    {
     "name": "stdout",
     "output_type": "stream",
     "text": [
      "Count: 1\n"
     ]
    }
   ],
   "source": [
    "count = 0\n",
    "\n",
    "def increment():\n",
    "    global count\n",
    "    count += 1\n",
    "\n",
    "increment()\n",
    "print(\"Count:\", count)\n"
   ]
  },
  {
   "cell_type": "markdown",
   "id": "88719b5c-f29c-4ae0-8cf3-ef7f9a2673b5",
   "metadata": {},
   "source": [
    "# Chapter 8: Tuples and Dictionaries in Python\n",
    "\n",
    "Tuples and Dictionaries are important built-in data structures in Python. Tuples are immutable, while dictionaries are mutable and store data as key-value pairs.\n"
   ]
  },
  {
   "cell_type": "markdown",
   "id": "e9318855-8853-43d1-99ee-9a61bed3e152",
   "metadata": {},
   "source": [
    "## 1. Tuples in Python\n",
    "\n",
    "- Tuples are ordered and immutable sequences.\n",
    "- Once created, the contents of a tuple cannot be changed.\n"
   ]
  },
  {
   "cell_type": "code",
   "execution_count": 46,
   "id": "b94ebb59-76ef-4f6f-b052-035a7039c617",
   "metadata": {},
   "outputs": [
    {
     "name": "stdout",
     "output_type": "stream",
     "text": [
      "1\n",
      "4.5\n",
      "apple\n"
     ]
    }
   ],
   "source": [
    "# Creating a tuple\n",
    "my_tuple = (1, 2, 3, \"apple\", 4.5)\n",
    "\n",
    "# Accessing elements\n",
    "print(my_tuple[0])\n",
    "print(my_tuple[-1])\n",
    "\n",
    "# Tuple unpacking\n",
    "a, b, c, d, e = my_tuple\n",
    "print(d)\n",
    "\n",
    "# Checking immutability (this will raise an error)\n",
    "# my_tuple[1] = 10  # ❌ TypeError\n"
   ]
  },
  {
   "cell_type": "markdown",
   "id": "772c1b77-547b-49ed-a2d0-63514c757352",
   "metadata": {},
   "source": [
    "## 2. Common Tuple Operations\n",
    "\n",
    "- Tuples can be used in loops, sliced, and have built-in methods like `.count()` and `.index()`.\n"
   ]
  },
  {
   "cell_type": "code",
   "execution_count": 47,
   "id": "9f15c141-3daa-42a2-bba3-636271db759d",
   "metadata": {},
   "outputs": [
    {
     "name": "stdout",
     "output_type": "stream",
     "text": [
      "5\n",
      "(2, 3, 'apple')\n",
      "1\n",
      "3\n"
     ]
    }
   ],
   "source": [
    "# Length of a tuple\n",
    "print(len(my_tuple))\n",
    "\n",
    "# Slicing a tuple\n",
    "print(my_tuple[1:4])\n",
    "\n",
    "# Using tuple methods\n",
    "print(my_tuple.count(2))  # Count of element\n",
    "print(my_tuple.index(\"apple\"))  # Index of element\n"
   ]
  },
  {
   "cell_type": "markdown",
   "id": "59ceee95-1c9e-47dc-a77d-fcfdd312e850",
   "metadata": {},
   "source": [
    "## 3. Dictionaries in Python\n",
    "\n",
    "- Dictionaries store data in key-value pairs.\n",
    "- Dictionaries are **mutable** and **unordered** (before Python 3.7).\n",
    "- Fast lookup and insertion by key.\n"
   ]
  },
  {
   "cell_type": "code",
   "execution_count": 48,
   "id": "b24b1613-2c0e-4d44-a589-3f7f909b7ccd",
   "metadata": {},
   "outputs": [
    {
     "name": "stdout",
     "output_type": "stream",
     "text": [
      "Ankush\n",
      "25\n",
      "{'name': 'Ankush', 'age': 25, 'is_student': True, 'city': 'Bangalore'}\n",
      "{'name': 'Ankush', 'age': 26, 'city': 'Bangalore'}\n"
     ]
    }
   ],
   "source": [
    "# Creating a dictionary\n",
    "my_dict = {\n",
    "    \"name\": \"Ankush\",\n",
    "    \"age\": 25,\n",
    "    \"is_student\": True\n",
    "}\n",
    "\n",
    "# Accessing values\n",
    "print(my_dict[\"name\"])\n",
    "print(my_dict.get(\"age\"))\n",
    "\n",
    "# Adding a new key-value pair\n",
    "my_dict[\"city\"] = \"Bangalore\"\n",
    "print(my_dict)\n",
    "\n",
    "# Modifying values\n",
    "my_dict[\"age\"] = 26\n",
    "\n",
    "# Removing a key-value pair\n",
    "my_dict.pop(\"is_student\")\n",
    "print(my_dict)\n"
   ]
  },
  {
   "cell_type": "markdown",
   "id": "0b6f3e80-c1a6-4be9-9e00-2069431a1cd7",
   "metadata": {},
   "source": [
    "## 4. Keys Must Be Unique and Immutable\n",
    "\n",
    "- Keys in dictionaries must be of immutable types: strings, numbers, or tuples.\n"
   ]
  },
  {
   "cell_type": "code",
   "execution_count": 49,
   "id": "e3316e08-2247-4056-a403-38b9c4bd5b1b",
   "metadata": {},
   "outputs": [
    {
     "name": "stdout",
     "output_type": "stream",
     "text": [
      "{1: 'One', 'two': 2, (3, 4): 'Tuple Key'}\n"
     ]
    }
   ],
   "source": [
    "# Valid keys\n",
    "valid_dict = {\n",
    "    1: \"One\",\n",
    "    \"two\": 2,\n",
    "    (3, 4): \"Tuple Key\"\n",
    "}\n",
    "print(valid_dict)\n",
    "\n",
    "# Invalid key example (will raise error)\n",
    "# invalid_dict = {[1, 2]: \"List Key\"}  # ❌ TypeError\n"
   ]
  },
  {
   "cell_type": "markdown",
   "id": "24352d3b-95a4-4f97-b727-e04146469172",
   "metadata": {},
   "source": [
    "## 5. Dictionary Methods\n",
    "\n",
    "- `keys()`, `values()`, and `items()` allow you to interact with dictionaries.\n"
   ]
  },
  {
   "cell_type": "code",
   "execution_count": 50,
   "id": "ab35c2e2-f0a9-4fca-a0a9-42a626ff0621",
   "metadata": {},
   "outputs": [
    {
     "name": "stdout",
     "output_type": "stream",
     "text": [
      "Keys: dict_keys(['name', 'age', 'city'])\n",
      "Values: dict_values(['Ankush', 26, 'Bangalore'])\n",
      "Items: dict_items([('name', 'Ankush'), ('age', 26), ('city', 'Bangalore')])\n",
      "name: Ankush\n",
      "age: 26\n",
      "city: Bangalore\n"
     ]
    }
   ],
   "source": [
    "print(\"Keys:\", my_dict.keys())\n",
    "print(\"Values:\", my_dict.values())\n",
    "print(\"Items:\", my_dict.items())\n",
    "\n",
    "# Iterating over a dictionary\n",
    "for key, value in my_dict.items():\n",
    "    print(f\"{key}: {value}\")\n"
   ]
  },
  {
   "cell_type": "markdown",
   "id": "acf1fdbc-2a03-47f8-aa7e-8aae6ba00a47",
   "metadata": {},
   "source": [
    "# Chapter 9: Sets in Python\n",
    "\n",
    "Sets are unordered collections of unique items in Python. They are useful when you want to store non-duplicate values and perform mathematical set operations like union, intersection, and difference.\n"
   ]
  },
  {
   "cell_type": "markdown",
   "id": "c83dadd4-822c-47af-a25f-9b5931ee0bda",
   "metadata": {},
   "source": [
    "## 1. Creating Sets\n",
    "\n",
    "- Sets are defined using curly braces `{}` or the `set()` constructor.\n",
    "- They automatically remove duplicate values.\n"
   ]
  },
  {
   "cell_type": "code",
   "execution_count": 51,
   "id": "96e4f587-dc73-43ab-a687-0d2817d6a457",
   "metadata": {},
   "outputs": [
    {
     "name": "stdout",
     "output_type": "stream",
     "text": [
      "{1, 2, 3, 4, 5}\n",
      "{1, 2, 3, 4}\n"
     ]
    }
   ],
   "source": [
    "# Creating a set\n",
    "my_set = {1, 2, 3, 4, 4, 5}\n",
    "print(my_set)  # Output: {1, 2, 3, 4, 5}\n",
    "\n",
    "# Creating a set from a list\n",
    "set_from_list = set([1, 2, 2, 3, 4])\n",
    "print(set_from_list)\n"
   ]
  },
  {
   "cell_type": "markdown",
   "id": "5e7b56be-61c1-4816-a033-b9b1183b87f7",
   "metadata": {},
   "source": [
    "## 2. Set Characteristics\n",
    "\n",
    "- Unordered: No indexing or slicing.\n",
    "- Mutable: Can add or remove elements.\n",
    "- Elements must be immutable (int, float, str, tuple)."
   ]
  },
  {
   "cell_type": "code",
   "execution_count": 52,
   "id": "926bae6d-e865-48c0-9618-678b785e17bf",
   "metadata": {},
   "outputs": [],
   "source": [
    "# Invalid set with mutable elements\n",
    "# invalid_set = {[1, 2], 3}  # ❌ Will raise TypeError\n"
   ]
  },
  {
   "cell_type": "markdown",
   "id": "64f4489a-7a5a-4b6c-9c7d-83dde65a2b17",
   "metadata": {},
   "source": [
    "## 3. Basic Set Operations\n"
   ]
  },
  {
   "cell_type": "code",
   "execution_count": 53,
   "id": "37de46ba-ebe5-4231-b6bc-766db5e2e8e0",
   "metadata": {},
   "outputs": [
    {
     "name": "stdout",
     "output_type": "stream",
     "text": [
      "Union: {1, 2, 3, 4, 5, 6}\n",
      "Intersection: {3, 4}\n",
      "Difference (a - b): {1, 2}\n",
      "Difference (b - a): {5, 6}\n",
      "Symmetric Difference: {1, 2, 5, 6}\n"
     ]
    }
   ],
   "source": [
    "a = {1, 2, 3, 4}\n",
    "b = {3, 4, 5, 6}\n",
    "\n",
    "# Union\n",
    "print(\"Union:\", a | b)  # {1, 2, 3, 4, 5, 6}\n",
    "\n",
    "# Intersection\n",
    "print(\"Intersection:\", a & b)  # {3, 4}\n",
    "\n",
    "# Difference\n",
    "print(\"Difference (a - b):\", a - b)  # {1, 2}\n",
    "print(\"Difference (b - a):\", b - a)  # {5, 6}\n",
    "\n",
    "# Symmetric Difference (elements in either set, not both)\n",
    "print(\"Symmetric Difference:\", a ^ b)  # {1, 2, 5, 6}\n"
   ]
  },
  {
   "cell_type": "markdown",
   "id": "f038b79a-92dd-4ac8-98fb-0e987f3f9e2b",
   "metadata": {},
   "source": [
    "## 4. Modifying Sets\n"
   ]
  },
  {
   "cell_type": "code",
   "execution_count": 54,
   "id": "de6315bf-bd73-4da6-92d2-009692d68660",
   "metadata": {},
   "outputs": [
    {
     "name": "stdout",
     "output_type": "stream",
     "text": [
      "{40, 10, 20, 30}\n",
      "{40, 10, 50, 20, 60, 30}\n",
      "{40, 10, 50, 20, 60}\n",
      "{40, 10, 50, 20, 60}\n",
      "set()\n"
     ]
    }
   ],
   "source": [
    "s = {10, 20, 30}\n",
    "\n",
    "# Adding elements\n",
    "s.add(40)\n",
    "print(s)\n",
    "\n",
    "# Adding multiple elements\n",
    "s.update([50, 60])\n",
    "print(s)\n",
    "\n",
    "# Removing elements\n",
    "s.remove(30)  # Raises KeyError if element not found\n",
    "print(s)\n",
    "\n",
    "s.discard(100)  # Safe: does not raise error\n",
    "print(s)\n",
    "\n",
    "# Clearing all elements\n",
    "s.clear()\n",
    "print(s)  # Output: set()\n"
   ]
  },
  {
   "cell_type": "markdown",
   "id": "e65efc41-421e-4af8-8bbe-0fbcf4c44347",
   "metadata": {},
   "source": [
    "# Chapter 10: Modules in Python\n",
    "\n",
    "Modules in Python allow you to organize and reuse code across multiple programs. A module is simply a `.py` file containing Python definitions and functions.\n",
    "\n",
    "You can import:\n",
    "- Built-in modules (like `math`, `random`, `datetime`)\n",
    "- Custom modules (your own `.py` files)\n",
    "- External modules (installed via pip from [PyPI](https://pypi.org/))\n"
   ]
  },
  {
   "cell_type": "code",
   "execution_count": null,
   "id": "a3d97440-494c-405e-86e5-4f8e2fa320d1",
   "metadata": {},
   "outputs": [],
   "source": []
  },
  {
   "cell_type": "markdown",
   "id": "02e737af-23e1-451c-929a-8bba8ac82c13",
   "metadata": {},
   "source": [
    "## 1. Importing Built-in Modules\n",
    "Use `import module_name` to bring a module into your current script.\n"
   ]
  },
  {
   "cell_type": "code",
   "execution_count": 56,
   "id": "08dc48b0-91dd-4fc2-83a8-2dde2356cfd1",
   "metadata": {},
   "outputs": [
    {
     "name": "stdout",
     "output_type": "stream",
     "text": [
      "4.0\n",
      "5\n",
      "4\n",
      "3.141592653589793\n"
     ]
    }
   ],
   "source": [
    "import math\n",
    "\n",
    "# Using functions from the math module\n",
    "print(math.sqrt(16))        # 4.0\n",
    "print(math.ceil(4.2))       # 5\n",
    "print(math.floor(4.8))      # 4\n",
    "print(math.pi)              # 3.141592653589793\n"
   ]
  },
  {
   "cell_type": "markdown",
   "id": "2f54d49c-b4bc-411d-a190-69d88457f579",
   "metadata": {},
   "source": [
    "## 2. Importing with Aliases\n",
    "Use `import module_name as alias` to make it shorter or more convenient to reference.\n"
   ]
  },
  {
   "cell_type": "code",
   "execution_count": 57,
   "id": "4e272aa4-4242-4e6a-a173-f7e504f0259a",
   "metadata": {},
   "outputs": [
    {
     "name": "stdout",
     "output_type": "stream",
     "text": [
      "Current Date and Time: 2025-04-19 15:30:11.946553\n"
     ]
    }
   ],
   "source": [
    "import datetime as dt\n",
    "\n",
    "now = dt.datetime.now()\n",
    "print(\"Current Date and Time:\", now)\n"
   ]
  },
  {
   "cell_type": "markdown",
   "id": "5f4105bc-c978-4d71-b9f6-b751382b7766",
   "metadata": {},
   "source": [
    "## 3. Import Specific Functions\n",
    "Use `from module_name import function_name` to import only what you need.\n"
   ]
  },
  {
   "cell_type": "code",
   "execution_count": 58,
   "id": "f9b16eed-38e9-41b5-b8ed-20a9158e6c81",
   "metadata": {},
   "outputs": [
    {
     "name": "stdout",
     "output_type": "stream",
     "text": [
      "5.0\n",
      "3.141592653589793\n"
     ]
    }
   ],
   "source": [
    "from math import sqrt, pi\n",
    "\n",
    "print(sqrt(25))  # 5.0\n",
    "print(pi)        # 3.141592653589793\n"
   ]
  },
  {
   "cell_type": "markdown",
   "id": "60a3d4ee-29a0-4c4c-b910-7de9f383923b",
   "metadata": {},
   "source": [
    "## 4. Installing External Modules\n",
    "\n",
    "External packages can be installed using pip from PyPI.\n",
    "\n",
    "Syntax:\n",
    "!pip install package_name\n"
   ]
  },
  {
   "cell_type": "code",
   "execution_count": 60,
   "id": "5c1a149b-98a4-4a09-a18b-2ad1be330b7d",
   "metadata": {},
   "outputs": [
    {
     "name": "stdout",
     "output_type": "stream",
     "text": [
      "[1 2 3]\n"
     ]
    }
   ],
   "source": [
    "# Example: Install and use numpy\n",
    "# Uncomment the line below to install\n",
    "# !pip install numpy\n",
    "\n",
    "import numpy as np\n",
    "\n",
    "arr = np.array([1, 2, 3])\n",
    "print(arr)\n"
   ]
  },
  {
   "cell_type": "markdown",
   "id": "e09f7144-7d3e-465f-b04d-0042e2c592c5",
   "metadata": {},
   "source": [
    "## 5. Creating and Using Your Own Modules\n",
    "\n",
    "Step 1: Create a Python file `mymodule.py` with some functions.\n"
   ]
  },
  {
   "cell_type": "code",
   "execution_count": 61,
   "id": "5ee3d369-2bb5-4860-9200-d2906d82b443",
   "metadata": {},
   "outputs": [],
   "source": [
    "# mymodule.py\n",
    "\n",
    "def greet(name):\n",
    "    return f\"Hello, {name}!\"\n",
    "\n",
    "def square(n):\n",
    "    return n * n\n"
   ]
  },
  {
   "cell_type": "markdown",
   "id": "c7db5994-5423-4198-81f2-6c2cdad0d8cb",
   "metadata": {},
   "source": [
    "Step 2: In your main script or notebook, import and use the custom module.\n"
   ]
  },
  {
   "cell_type": "code",
   "execution_count": 64,
   "id": "15f693b3-372f-4c68-a605-42c3a2d73765",
   "metadata": {},
   "outputs": [],
   "source": [
    "# import mymodule\n",
    "\n",
    "# print(mymodule.greet(\"Ankush\"))\n",
    "# print(mymodule.square(5))\n"
   ]
  },
  {
   "cell_type": "markdown",
   "id": "b6eb5796-924f-4460-9019-d03c1daa463b",
   "metadata": {},
   "source": [
    "# Chapter 11: File Handling in Python\n",
    "\n",
    "Python provides simple functions for file input/output (I/O), making it easy to read, write, and manage files.\n",
    "\n",
    "The key function for working with files is the `open()` function, which takes two parameters:\n",
    "- `filename` (string): Name/path of the file\n",
    "- `mode` (string): What you want to do with the file\n"
   ]
  },
  {
   "cell_type": "markdown",
   "id": "6f7af638-7003-4de2-b5c2-79e7b3d2b973",
   "metadata": {},
   "source": [
    "## File Opening Modes:\n",
    "\n",
    "| Mode | Description |\n",
    "|------|-------------|\n",
    "| `'r'` | Read (default). Opens the file for reading. Error if file doesn't exist |\n",
    "| `'a'` | Append. Opens file for appending. Creates the file if it doesn’t exist |\n",
    "| `'w'` | Write. Opens file for writing. Creates new or truncates existing file |\n",
    "| `'x'` | Create. Creates the file. Returns an error if the file exists |\n"
   ]
  },
  {
   "cell_type": "code",
   "execution_count": 65,
   "id": "ff51fd19-8a5c-4231-b39d-e3cca532e88b",
   "metadata": {},
   "outputs": [],
   "source": [
    "# Example: Writing to a file\n",
    "with open(\"example.txt\", \"w\") as file:\n",
    "    file.write(\"Hello from Python!\\n\")\n",
    "    file.write(\"This is a file handling demo.\")\n"
   ]
  },
  {
   "cell_type": "code",
   "execution_count": 66,
   "id": "82e8e137-ea44-4d09-bd72-bfe40e401d45",
   "metadata": {},
   "outputs": [
    {
     "name": "stdout",
     "output_type": "stream",
     "text": [
      "Hello from Python!\n",
      "This is a file handling demo.\n"
     ]
    }
   ],
   "source": [
    "# Example: Reading from a file\n",
    "with open(\"example.txt\", \"r\") as file:\n",
    "    content = file.read()\n",
    "    print(content)\n"
   ]
  },
  {
   "cell_type": "code",
   "execution_count": 67,
   "id": "02a51570-c8fa-4bae-9d52-dbd8e3670478",
   "metadata": {},
   "outputs": [],
   "source": [
    "# Example: Appending to a file\n",
    "with open(\"example.txt\", \"a\") as file:\n",
    "    file.write(\"\\nAppended line.\")\n"
   ]
  },
  {
   "cell_type": "code",
   "execution_count": 68,
   "id": "e4043e79-4d00-412d-a7d3-e23ef1c350d7",
   "metadata": {},
   "outputs": [
    {
     "name": "stdout",
     "output_type": "stream",
     "text": [
      "Hello from Python!\n",
      "This is a file handling demo.\n",
      "Appended line.\n"
     ]
    }
   ],
   "source": [
    "# Example: Reading line by line\n",
    "with open(\"example.txt\", \"r\") as file:\n",
    "    for line in file:\n",
    "        print(line.strip())\n"
   ]
  },
  {
   "cell_type": "markdown",
   "id": "44f2b714-dd5b-44a1-814a-adf32f1e5132",
   "metadata": {},
   "source": [
    "## Checking If a File Exists\n",
    "\n",
    "The `os` module lets you check if a file exists before performing actions like reading or deleting.\n"
   ]
  },
  {
   "cell_type": "code",
   "execution_count": 69,
   "id": "54b94ee2-8336-4335-a508-ef52b7467cc8",
   "metadata": {},
   "outputs": [
    {
     "name": "stdout",
     "output_type": "stream",
     "text": [
      "File exists.\n"
     ]
    }
   ],
   "source": [
    "import os\n",
    "\n",
    "# Check if file exists\n",
    "if os.path.exists(\"example.txt\"):\n",
    "    print(\"File exists.\")\n",
    "else:\n",
    "    print(\"File does not exist.\")\n"
   ]
  },
  {
   "cell_type": "markdown",
   "id": "dd95efb4-6784-4db9-8024-50d3754d0b8b",
   "metadata": {},
   "source": [
    "## Deleting a File\n",
    "\n",
    "Use `os.remove()` to delete a file. Always check if the file exists before deleting it to avoid errors.\n"
   ]
  },
  {
   "cell_type": "code",
   "execution_count": 70,
   "id": "3fed47c4-14ce-4b1f-9cfa-75be86514c6f",
   "metadata": {},
   "outputs": [
    {
     "name": "stdout",
     "output_type": "stream",
     "text": [
      "File deleted.\n"
     ]
    }
   ],
   "source": [
    "# Delete the file if it exists\n",
    "if os.path.exists(\"example.txt\"):\n",
    "    os.remove(\"example.txt\")\n",
    "    print(\"File deleted.\")\n",
    "else:\n",
    "    print(\"No such file to delete.\")\n"
   ]
  },
  {
   "cell_type": "markdown",
   "id": "d5f47626-2a5d-466c-95f3-a81193fd1ef6",
   "metadata": {},
   "source": [
    "# Chapter 12: Object-Oriented Programming (OOP) in Python\n",
    "\n",
    "Python is an object-oriented language that allows you to model real-world entities as \"objects\".\n",
    "\n",
    "## Key Concepts:\n",
    "\n",
    "- **Class**: A blueprint for creating objects.\n",
    "- **Object**: An instance of a class.\n",
    "- **Attributes**: Variables that belong to a class/object.\n",
    "- **Methods**: Functions that belong to a class/object.\n"
   ]
  },
  {
   "cell_type": "code",
   "execution_count": 71,
   "id": "3d187a97-03fc-4411-98aa-76448f376d73",
   "metadata": {},
   "outputs": [],
   "source": [
    "# Creating a class\n",
    "class Person:\n",
    "    def __init__(self, name, age):\n",
    "        self.name = name      # Attribute\n",
    "        self.age = age        # Attribute\n",
    "\n",
    "    def greet(self):          # Method\n",
    "        return f\"Hi, I am {self.name} and I am {self.age} years old.\""
   ]
  },
  {
   "cell_type": "code",
   "execution_count": 72,
   "id": "af9551e4-1874-4b80-a40f-4f92129e88c1",
   "metadata": {},
   "outputs": [
    {
     "name": "stdout",
     "output_type": "stream",
     "text": [
      "Hi, I am Ankush and I am 24 years old.\n"
     ]
    }
   ],
   "source": [
    "# Creating objects\n",
    "p1 = Person(\"Ankush\", 24)\n",
    "print(p1.greet())  # Output: Hi, I am Ankush and I am 24 years old."
   ]
  },
  {
   "cell_type": "markdown",
   "id": "2af1a338-535c-4011-ab4a-d0eb4c4e1926",
   "metadata": {},
   "source": [
    "## The __init__() Method\n",
    "\n",
    "- A special method called a **constructor**.\n",
    "- Automatically runs when a new object is created.\n",
    "- Commonly used to initialize attributes.\n"
   ]
  },
  {
   "cell_type": "markdown",
   "id": "aa180d44-1a83-4224-8678-c2fa1b4a2b63",
   "metadata": {},
   "source": [
    "## The self Parameter\n",
    "\n",
    "- Refers to the current instance of the class.\n",
    "- Must be the first parameter of any method in a class.\n"
   ]
  },
  {
   "cell_type": "markdown",
   "id": "e068292f-962b-4019-9bdd-6dda6f502177",
   "metadata": {},
   "source": [
    "## Adding More Methods\n"
   ]
  },
  {
   "cell_type": "code",
   "execution_count": 73,
   "id": "c5cb53f4-71f3-43e3-a0ea-6e9543854331",
   "metadata": {},
   "outputs": [],
   "source": [
    "class Circle:\n",
    "    def __init__(self, radius):\n",
    "        self.radius = radius\n",
    "\n",
    "    def area(self):\n",
    "        return 3.14 * self.radius ** 2\n",
    "\n",
    "    def perimeter(self):\n",
    "        return 2 * 3.14 * self.radius\n"
   ]
  },
  {
   "cell_type": "code",
   "execution_count": 74,
   "id": "c14c7b15-125e-4ecc-99f1-d6d195ec7701",
   "metadata": {},
   "outputs": [
    {
     "name": "stdout",
     "output_type": "stream",
     "text": [
      "Area: 78.5\n",
      "Perimeter: 31.400000000000002\n"
     ]
    }
   ],
   "source": [
    "c = Circle(5)\n",
    "print(\"Area:\", c.area())\n",
    "print(\"Perimeter:\", c.perimeter())\n"
   ]
  },
  {
   "cell_type": "markdown",
   "id": "406eff04-e63b-4056-a3d9-0dfa811858cc",
   "metadata": {},
   "source": [
    "## Inheritance\n",
    "\n",
    "- Allows one class to inherit attributes and methods from another.\n",
    "- Promotes **code reuse**.\n"
   ]
  },
  {
   "cell_type": "code",
   "execution_count": 75,
   "id": "f03f7dbc-d0f3-4f9d-b9fc-11f62627e943",
   "metadata": {},
   "outputs": [
    {
     "name": "stdout",
     "output_type": "stream",
     "text": [
      "Bruno\n",
      "Woof!\n"
     ]
    }
   ],
   "source": [
    "class Animal:\n",
    "    def __init__(self, name):\n",
    "        self.name = name\n",
    "\n",
    "    def speak(self):\n",
    "        return \"Some sound\"\n",
    "\n",
    "class Dog(Animal):  # Inherits from Animal\n",
    "    def speak(self):\n",
    "        return \"Woof!\"\n",
    "\n",
    "dog1 = Dog(\"Bruno\")\n",
    "print(dog1.name)\n",
    "print(dog1.speak())\n"
   ]
  },
  {
   "cell_type": "markdown",
   "id": "763d0240-de23-430d-aefe-5bc1cb2272c7",
   "metadata": {},
   "source": [
    "## Encapsulation\n",
    "\n",
    "- Restrict direct access to variables/methods.\n",
    "- Achieved using underscores `_` or double underscores `__`.\n"
   ]
  },
  {
   "cell_type": "code",
   "execution_count": 76,
   "id": "5b7b6f10-4f9d-4bd9-9a18-58e0b230b36e",
   "metadata": {},
   "outputs": [
    {
     "name": "stdout",
     "output_type": "stream",
     "text": [
      "1500\n"
     ]
    }
   ],
   "source": [
    "class BankAccount:\n",
    "    def __init__(self, balance):\n",
    "        self.__balance = balance  # Private attribute\n",
    "\n",
    "    def deposit(self, amount):\n",
    "        self.__balance += amount\n",
    "\n",
    "    def get_balance(self):\n",
    "        return self.__balance\n",
    "\n",
    "acc = BankAccount(1000)\n",
    "acc.deposit(500)\n",
    "# Try accessing private variable directly (will fail)\n",
    "# print(acc.__balance)  # ❌ Error\n",
    "print(acc.get_balance())  # 1500\n"
   ]
  },
  {
   "cell_type": "markdown",
   "id": "f64783e7-68a6-4394-9163-b200bd5d9b6f",
   "metadata": {},
   "source": [
    "## Polymorphism\n",
    "\n",
    "- Means having many forms.\n",
    "- Functions/methods behave differently based on input or object type.\n"
   ]
  },
  {
   "cell_type": "code",
   "execution_count": 77,
   "id": "2a7caae3-007c-448f-9ce5-dafd5685ab05",
   "metadata": {},
   "outputs": [
    {
     "name": "stdout",
     "output_type": "stream",
     "text": [
      "Meow\n",
      "Moo\n"
     ]
    }
   ],
   "source": [
    "class Animal:\n",
    "    def speak(self):\n",
    "        print(\"Animal speaks\")\n",
    "\n",
    "class Dog(Animal):\n",
    "    def speak(self):\n",
    "        print(\"Dog barks\")\n",
    "\n",
    "class Cat(Animal):\n",
    "    def speak(self):\n",
    "        print(\"Cat meows\")\n",
    "\n",
    "# Using the same method name\n",
    "animals = [Dog(), Cat(), Animal()]\n",
    "\n",
    "for animal in animals:\n",
    "    animal.speak()"
   ]
  },
  {
   "cell_type": "markdown",
   "id": "97c04cf7-7c98-462c-81e3-79dde0f95956",
   "metadata": {},
   "source": [
    "## Abstraction\n",
    "\n",
    "- Abstraction hides complex implementation details and shows only the necessary features.\n",
    "- Helps in reducing programming complexity and effort.\n",
    "- Can be implemented using **abstract base classes** with the `abc` module.\n"
   ]
  },
  {
   "cell_type": "code",
   "execution_count": 78,
   "id": "24463fd0-077a-4a56-ab28-0a2bad3607b2",
   "metadata": {},
   "outputs": [
    {
     "name": "stdout",
     "output_type": "stream",
     "text": [
      "Car engine started.\n",
      "Bike engine started.\n"
     ]
    }
   ],
   "source": [
    "from abc import ABC, abstractmethod\n",
    "\n",
    "class Vehicle(ABC):  # Abstract Base Class\n",
    "    @abstractmethod\n",
    "    def start_engine(self):\n",
    "        pass\n",
    "\n",
    "class Car(Vehicle):\n",
    "    def start_engine(self):\n",
    "        return \"Car engine started.\"\n",
    "\n",
    "class Bike(Vehicle):\n",
    "    def start_engine(self):\n",
    "        return \"Bike engine started.\"\n",
    "\n",
    "c = Car()\n",
    "print(c.start_engine())\n",
    "\n",
    "b = Bike()\n",
    "print(b.start_engine())\n"
   ]
  },
  {
   "cell_type": "markdown",
   "id": "0c0b1149-1b4b-44c8-ad27-55cba05897b7",
   "metadata": {},
   "source": [
    "## Operator Overloading\n",
    "\n",
    "- Operator Overloading allows you to **redefine the meaning** of built-in operators (`+`, `-`, `==`, `<`, etc.) for custom objects.\n",
    "- This makes your class more intuitive and Pythonic.\n",
    "- You do this by defining **special methods** like `__add__`, `__sub__`, `__eq__`, `__lt__`, etc.\n"
   ]
  },
  {
   "cell_type": "code",
   "execution_count": 79,
   "id": "205e9136-0573-4f73-8be8-c44134a12f0f",
   "metadata": {},
   "outputs": [
    {
     "name": "stdout",
     "output_type": "stream",
     "text": [
      "Point(4, 6)\n",
      "True\n"
     ]
    }
   ],
   "source": [
    "class Point:\n",
    "    def __init__(self, x, y):\n",
    "        self.x = x\n",
    "        self.y = y\n",
    "\n",
    "    # Overloading the + operator\n",
    "    def __add__(self, other):\n",
    "        return Point(self.x + other.x, self.y + other.y)\n",
    "\n",
    "    # Overloading the == operator\n",
    "    def __eq__(self, other):\n",
    "        return self.x == other.x and self.y == other.y\n",
    "\n",
    "    # String representation for print()\n",
    "    def __repr__(self):\n",
    "        return f\"Point({self.x}, {self.y})\"\n",
    "\n",
    "p1 = Point(1, 2)\n",
    "p2 = Point(3, 4)\n",
    "p3 = Point(1, 2)\n",
    "\n",
    "print(p1 + p2)     # Point(4, 6)\n",
    "print(p1 == p3)    # True\n"
   ]
  },
  {
   "cell_type": "markdown",
   "id": "ca13491d-45ca-40b1-a23a-d9b9ab380db8",
   "metadata": {},
   "source": [
    "### Common Special Methods for Operator Overloading\n",
    "\n",
    "| Operator | Method        |\n",
    "|----------|---------------|\n",
    "| `+`      | `__add__`     |\n",
    "| `-`      | `__sub__`     |\n",
    "| `*`      | `__mul__`     |\n",
    "| `/`      | `__truediv__` |\n",
    "| `==`     | `__eq__`      |\n",
    "| `<`      | `__lt__`      |\n",
    "| `<=`     | `__le__`      |\n",
    "| `>`      | `__gt__`      |\n",
    "| `>=`     | `__ge__`      |\n",
    "\n",
    "Use operator overloading to make your custom objects behave more like built-in types.\n"
   ]
  },
  {
   "cell_type": "markdown",
   "id": "bee6e6fd-f371-408c-aac0-13d8f4b805de",
   "metadata": {},
   "source": [
    "# Chapter 13: Exception Handling in Python\n",
    "\n",
    "Exception handling ensures that programs can address and recover from errors during execution **without crashing**.\n",
    "\n",
    "---\n",
    "\n",
    "### Why Use Exception Handling?\n",
    "\n",
    "- Prevents abrupt termination of programs.\n",
    "- Allows clean and controlled responses to errors.\n",
    "- Helps in debugging and managing edge cases.\n"
   ]
  },
  {
   "cell_type": "code",
   "execution_count": 89,
   "id": "5b88b9d3-c082-405d-bf53-ddd701d516bb",
   "metadata": {},
   "outputs": [
    {
     "name": "stdout",
     "output_type": "stream",
     "text": [
      "❌ Cannot divide by zero!\n"
     ]
    }
   ],
   "source": [
    "# Basic try-except example\n",
    "try:\n",
    "    result = 10 / 0\n",
    "except ZeroDivisionError:\n",
    "    print(\"❌ Cannot divide by zero!\")\n"
   ]
  },
  {
   "cell_type": "code",
   "execution_count": 90,
   "id": "44b21017-35c4-4a07-b0a7-1cf588420e2f",
   "metadata": {},
   "outputs": [
    {
     "name": "stdout",
     "output_type": "stream",
     "text": [
      "Conversion failed: Not a valid number.\n"
     ]
    }
   ],
   "source": [
    "#  Handling Multiple Exceptions\n",
    "try:\n",
    "    a = int(\"abc\")\n",
    "except ZeroDivisionError:\n",
    "    print(\"You tried dividing by zero.\")\n",
    "except ValueError:\n",
    "    print(\"Conversion failed: Not a valid number.\")\n"
   ]
  },
  {
   "cell_type": "code",
   "execution_count": 91,
   "id": "ba483bec-1556-4b3c-8194-6faea6d56fc9",
   "metadata": {},
   "outputs": [
    {
     "name": "stdin",
     "output_type": "stream",
     "text": [
      "Enter a number:  0\n"
     ]
    },
    {
     "name": "stdout",
     "output_type": "stream",
     "text": [
      "✅ You entered: 0\n",
      "This runs only if no error occurred.\n",
      "🔚 This always runs.\n"
     ]
    }
   ],
   "source": [
    "# Using else and finally\n",
    "try:\n",
    "    num = int(input(\"Enter a number: \"))\n",
    "    print(\"✅ You entered:\", num)\n",
    "except ValueError:\n",
    "    print(\"❌ That's not a valid number.\")\n",
    "else:\n",
    "    print(\"This runs only if no error occurred.\")\n",
    "finally:\n",
    "    print(\"🔚 This always runs.\")\n"
   ]
  },
  {
   "cell_type": "markdown",
   "id": "f7c36cba-fb77-4d0d-b98c-611b0c5bd68d",
   "metadata": {},
   "source": [
    "## Structure of Exception Handling\n",
    "\n",
    "| Block      | Purpose                                                      |\n",
    "|------------|--------------------------------------------------------------|\n",
    "| `try`      | Block of code where exceptions might occur                   |\n",
    "| `except`   | Block to handle the exception                                |\n",
    "| `else`     | Executes if no exception occurred                            |\n",
    "| `finally`  | Always runs (used for cleanup tasks like closing files etc.) |\n"
   ]
  },
  {
   "cell_type": "markdown",
   "id": "a311602e-7a46-4153-ae71-bed280dd2e00",
   "metadata": {},
   "source": [
    "## Raise Your Own Exceptions\n",
    "\n",
    "Use `raise` to throw an exception manually, especially when you want to enforce specific rules or constraints.\n"
   ]
  },
  {
   "cell_type": "code",
   "execution_count": 92,
   "id": "23a094eb-bce4-4f51-8d92-75058309fc32",
   "metadata": {},
   "outputs": [
    {
     "ename": "ValueError",
     "evalue": "🔒 You must be at least 18 years old to register.",
     "output_type": "error",
     "traceback": [
      "\u001b[31m---------------------------------------------------------------------------\u001b[39m",
      "\u001b[31mValueError\u001b[39m                                Traceback (most recent call last)",
      "\u001b[36mCell\u001b[39m\u001b[36m \u001b[39m\u001b[32mIn[92]\u001b[39m\u001b[32m, line 5\u001b[39m\n\u001b[32m      2\u001b[39m age = \u001b[32m15\u001b[39m\n\u001b[32m      4\u001b[39m \u001b[38;5;28;01mif\u001b[39;00m age < \u001b[32m18\u001b[39m:\n\u001b[32m----> \u001b[39m\u001b[32m5\u001b[39m     \u001b[38;5;28;01mraise\u001b[39;00m \u001b[38;5;167;01mValueError\u001b[39;00m(\u001b[33m\"\u001b[39m\u001b[33m🔒 You must be at least 18 years old to register.\u001b[39m\u001b[33m\"\u001b[39m)\n",
      "\u001b[31mValueError\u001b[39m: 🔒 You must be at least 18 years old to register."
     ]
    }
   ],
   "source": [
    "# Example: Using raise\n",
    "age = 15\n",
    "\n",
    "if age < 18:\n",
    "    raise ValueError(\"🔒 You must be at least 18 years old to register.\")\n"
   ]
  },
  {
   "cell_type": "markdown",
   "id": "c984983c-5076-4263-8afe-bfb661675cab",
   "metadata": {},
   "source": [
    "# Chapter 14: `if __name__ == \"__main__\"` in Python\n",
    "\n",
    "- Used to define the entry point of a Python script.\n",
    "- When a script is run directly → `__name__` is `\"__main__\"`.\n",
    "- When a script is imported → `__name__` is the module’s name.\n",
    "\n",
    "Helps prevent certain code from running when the file is imported as a module.\n"
   ]
  },
  {
   "cell_type": "code",
   "execution_count": 93,
   "id": "6f9a7186-8d24-47c0-b57d-f2800efbf8dd",
   "metadata": {},
   "outputs": [
    {
     "name": "stdout",
     "output_type": "stream",
     "text": [
      "Hello from greet()!\n"
     ]
    }
   ],
   "source": [
    "# example.py\n",
    "\n",
    "def greet():\n",
    "    print(\"Hello from greet()!\")\n",
    "\n",
    "if __name__ == \"__main__\":\n",
    "    greet()\n",
    "\n",
    "# If run directly: greet() will be called\n",
    "# If imported elsewhere: greet() won't run automatically"
   ]
  }
 ],
 "metadata": {
  "kernelspec": {
   "display_name": "Python 3 (ipykernel)",
   "language": "python",
   "name": "python3"
  },
  "language_info": {
   "codemirror_mode": {
    "name": "ipython",
    "version": 3
   },
   "file_extension": ".py",
   "mimetype": "text/x-python",
   "name": "python",
   "nbconvert_exporter": "python",
   "pygments_lexer": "ipython3",
   "version": "3.13.2"
  }
 },
 "nbformat": 4,
 "nbformat_minor": 5
}
