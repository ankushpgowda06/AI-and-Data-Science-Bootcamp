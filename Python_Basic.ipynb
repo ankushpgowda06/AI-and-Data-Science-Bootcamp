{
 "cells": [
  {
   "cell_type": "markdown",
   "id": "7849c455-5531-4123-be28-11e8f9d0c02b",
   "metadata": {},
   "source": [
    "# Chapter 1: Variables\n",
    "\n",
    "## What is a Variable?\n",
    "- A variable is a container that stores data in a Python program.\n",
    "- Think of it like a label assigned to a value."
   ]
  },
  {
   "cell_type": "code",
   "execution_count": 1,
   "id": "ba93104a-6555-42c5-876f-e34ca7e935ba",
   "metadata": {},
   "outputs": [
    {
     "name": "stdout",
     "output_type": "stream",
     "text": [
      "Ankush 25 5.9 True\n"
     ]
    }
   ],
   "source": [
    "# Example: Declaring variables\n",
    "name = \"Ankush\"     # String\n",
    "age = 25            # Integer\n",
    "height = 5.9        # Float\n",
    "is_student = True   # Boolean\n",
    "\n",
    "print(name, age, height, is_student)\n"
   ]
  },
  {
   "cell_type": "markdown",
   "id": "be3046cc-61d5-4425-9777-46d1afcdaaf8",
   "metadata": {},
   "source": [
    "## Data Types a Variable Can Store:\n",
    "- `String` → Text data (e.g., \"hello\")\n",
    "- `Integer` → Whole numbers (e.g., 42)\n",
    "- `Float` → Decimal numbers (e.g., 3.14)\n",
    "- `Boolean` → True/False values\n"
   ]
  },
  {
   "cell_type": "code",
   "execution_count": 2,
   "id": "bca168d1-d903-4d3e-b161-7f8df4ffe080",
   "metadata": {},
   "outputs": [
    {
     "name": "stdout",
     "output_type": "stream",
     "text": [
      "<class 'str'>\n",
      "<class 'int'>\n",
      "<class 'float'>\n",
      "<class 'bool'>\n"
     ]
    }
   ],
   "source": [
    "# Checking variable data types\n",
    "print(type(name))       # <class 'str'>\n",
    "print(type(age))        # <class 'int'>\n",
    "print(type(height))     # <class 'float'>\n",
    "print(type(is_student)) # <class 'bool'>\n"
   ]
  },
  {
   "cell_type": "markdown",
   "id": "2ee5bf0a-ff8a-4779-89d4-80feb9c1ee91",
   "metadata": {},
   "source": [
    "## Rules for Naming Variables in Python:\n",
    "1. Cannot use reserved words (e.g., `def`, `True`, `if`) as variable names.\n",
    "2. Must begin with a letter or underscore `_`.\n",
    "3. Cannot contain spaces or special characters like `@`, `#`, `$`, `%`, etc.\n",
    "4. Underscore `_` is valid and can be used anywhere in the name."
   ]
  },
  {
   "cell_type": "code",
   "execution_count": 3,
   "id": "be03e857-4626-41bf-bc39-f6305ea9cef6",
   "metadata": {},
   "outputs": [],
   "source": [
    "# Valid variable names\n",
    "my_var = \"Hello\"\n",
    "_myvar2 = 100\n",
    "user_name = \"ankush\"\n",
    "\n",
    "# Invalid variable names (will cause SyntaxError if you try to run them)\n",
    "# 2cool = \"nope\"\n",
    "# def = \"error\"\n",
    "# user-name = \"invalid\""
   ]
  },
  {
   "cell_type": "markdown",
   "id": "826ebca2-e910-446e-9063-81257c050297",
   "metadata": {},
   "source": [
    "# Chapter 2: Data Types, Operators, and Type Casting\n",
    "\n",
    "## Integer and Float\n",
    "- **Integer (`int`)**: Stores whole numbers without a decimal part (e.g., `57`)\n",
    "- **Float (`float`)**: Stores numbers with decimal parts (e.g., `57.23`)\n"
   ]
  },
  {
   "cell_type": "code",
   "execution_count": 4,
   "id": "24f88d05-e5b5-407e-bc73-367658d206b2",
   "metadata": {},
   "outputs": [
    {
     "name": "stdout",
     "output_type": "stream",
     "text": [
      "<class 'int'>\n",
      "<class 'float'>\n"
     ]
    }
   ],
   "source": [
    "# Integer and Float examples\n",
    "x = 57         # Integer\n",
    "y = 57.23      # Float\n",
    "\n",
    "print(type(x))  # <class 'int'>\n",
    "print(type(y))  # <class 'float'>\n"
   ]
  },
  {
   "cell_type": "markdown",
   "id": "bfd08139-8c80-43db-9625-b0f13c634ddc",
   "metadata": {},
   "source": [
    "## BODMAS Rule in Python\n",
    "\n",
    "Python follows the **BODMAS** rule for evaluating expressions:\n",
    "- **B** → Brackets `()`\n",
    "- **O** → Orders (powers and roots, e.g., `**`, `math.sqrt()`)\n",
    "- **D** and **M** → Division `/`, Floor Division `//`, Modulus `%`, and Multiplication `*`\n",
    "- **A** and **S** → Addition `+` and Subtraction `-`\n",
    "\n",
    "Operations are evaluated from **left to right** for operators of the same precedence.\n"
   ]
  },
  {
   "cell_type": "code",
   "execution_count": 11,
   "id": "a9b20880-2c52-4edf-b39d-6f9a107d0aab",
   "metadata": {},
   "outputs": [
    {
     "name": "stdout",
     "output_type": "stream",
     "text": [
      "20\n",
      "30\n"
     ]
    }
   ],
   "source": [
    "# BODMAS in action\n",
    "result = 10 + 5 * 2        # 5*2 = 10 → 10+10 = 20\n",
    "print(result)              # Output: 20\n",
    "\n",
    "result = (10 + 5) * 2      # 10+5 = 15 → 15*2 = 30\n",
    "print(result)              # Output: 30\n"
   ]
  },
  {
   "cell_type": "markdown",
   "id": "73f5d268-19c7-4ba2-a759-2e828e91bae8",
   "metadata": {},
   "source": [
    "## Operators\n",
    "\n",
    "### Division\n",
    "- `/` → Regular division (returns float)\n",
    "- `//` → Floor division (returns integer part of result)\n"
   ]
  },
  {
   "cell_type": "code",
   "execution_count": 5,
   "id": "4570132e-aaf8-433f-a7e6-17b071bbea70",
   "metadata": {},
   "outputs": [
    {
     "name": "stdout",
     "output_type": "stream",
     "text": [
      "3.3333333333333335\n",
      "3\n"
     ]
    }
   ],
   "source": [
    "# Division examples\n",
    "print(10 / 3)   # 3.333333...\n",
    "print(10 // 3)  # 3 (floor division)\n"
   ]
  },
  {
   "cell_type": "markdown",
   "id": "792c0512-ffde-4e58-9fb0-2d5768a006db",
   "metadata": {},
   "source": [
    "### Modulo\n",
    "- `%` → Modulo operator (returns remainder)\n"
   ]
  },
  {
   "cell_type": "code",
   "execution_count": 6,
   "id": "1bf8d579-005f-4032-a31a-aab3b7573ba2",
   "metadata": {},
   "outputs": [
    {
     "name": "stdout",
     "output_type": "stream",
     "text": [
      "1\n"
     ]
    }
   ],
   "source": [
    "print(10 % 3)  # Output: 1\n"
   ]
  },
  {
   "cell_type": "markdown",
   "id": "da0d2b4a-17f7-45c3-878f-71b2edfc53ce",
   "metadata": {},
   "source": [
    "### Exponentiation\n",
    "- `x ** y` → x raised to the power of y\n"
   ]
  },
  {
   "cell_type": "code",
   "execution_count": 7,
   "id": "ac3a7b1a-745a-402d-bb19-b6ec0cfddd6a",
   "metadata": {},
   "outputs": [
    {
     "name": "stdout",
     "output_type": "stream",
     "text": [
      "8\n"
     ]
    }
   ],
   "source": [
    "print(2 ** 3)  # Output: 8 (2^3)\n"
   ]
  },
  {
   "cell_type": "markdown",
   "id": "45614412-0c83-45b8-b029-9140f718e9d3",
   "metadata": {},
   "source": [
    "## Type Casting\n",
    "- Use built-in functions to change data types:\n",
    "  - `int()` → Convert to integer\n",
    "  - `float()` → Convert to float\n",
    "  - `str()` → Convert to string\n"
   ]
  },
  {
   "cell_type": "code",
   "execution_count": 8,
   "id": "b760804a-a3f2-4dcd-9009-ae9818fa802f",
   "metadata": {},
   "outputs": [
    {
     "name": "stdout",
     "output_type": "stream",
     "text": [
      "10.2\n",
      "7\n",
      "100\n"
     ]
    }
   ],
   "source": [
    "# Type casting examples\n",
    "print(float(\"10.2\"))   # Output: 10.2\n",
    "print(int(7.9))        # Output: 7\n",
    "print(str(100))        # Output: \"100\"\n"
   ]
  },
  {
   "cell_type": "markdown",
   "id": "4a9d9c2e-955c-4be5-8fcc-98cbe6ce19b7",
   "metadata": {},
   "source": [
    "## The `math` Module\n",
    "- Python's built-in math module includes useful mathematical functions:\n",
    "  - `math.sqrt(x)` → Square root of x\n",
    "  - `math.floor(x)` → Rounds down to nearest whole number\n",
    "  - `math.ceil(x)` → Rounds up to nearest whole number\n",
    "- You must `import math` before using it.\n"
   ]
  },
  {
   "cell_type": "code",
   "execution_count": 10,
   "id": "a3545897-dc39-40f8-8c50-c58801d78f47",
   "metadata": {},
   "outputs": [
    {
     "name": "stdout",
     "output_type": "stream",
     "text": [
      "4.0\n",
      "7\n",
      "8\n"
     ]
    }
   ],
   "source": [
    "import math\n",
    "\n",
    "print(math.sqrt(16))     # Output: 4.0\n",
    "print(math.floor(7.9))   # Output: 7\n",
    "print(math.ceil(7.1))    # Output: 8\n"
   ]
  },
  {
   "cell_type": "markdown",
   "id": "1dacf417-69fd-43fc-8858-1b63eb9caa43",
   "metadata": {},
   "source": [
    "# Chapter 3: Strings in Python\n",
    "\n",
    "## Strings are Immutable\n",
    "- In Python, **strings are immutable**, meaning once created, their content cannot be changed.\n",
    "- You cannot modify an individual character of a string.\n"
   ]
  },
  {
   "cell_type": "code",
   "execution_count": 12,
   "id": "e52d1448-0409-459e-92c3-b2a80c6f3503",
   "metadata": {},
   "outputs": [],
   "source": [
    "name = \"Ankush\"\n",
    "# Trying to modify a string character will raise an error\n",
    "# name[0] = \"a\"   # Uncommenting this line will raise a TypeError\n"
   ]
  },
  {
   "cell_type": "markdown",
   "id": "eb503a4e-fb56-4a60-9dbe-0a65b33563e8",
   "metadata": {},
   "source": [
    "## Accessing Specific Characters or Substrings\n",
    "- **Indexing**: Access individual characters by their index. Index starts at 0.\n",
    "- **Slicing**: Extract a substring using the slice notation `[start:end]`.\n",
    "\n",
    "### Examples:\n",
    "- `name[0]` → First character (`A`)\n",
    "- `name[1:5]` → Substring from index 1 to 4 (`nkus`)\n"
   ]
  },
  {
   "cell_type": "code",
   "execution_count": 13,
   "id": "5aac6eca-4049-42d8-8342-a50b3747e5a7",
   "metadata": {},
   "outputs": [
    {
     "name": "stdout",
     "output_type": "stream",
     "text": [
      "A\n",
      "u\n",
      "nkus\n",
      "Ank\n",
      "ush\n"
     ]
    }
   ],
   "source": [
    "name = \"Ankush\"\n",
    "\n",
    "# Indexing to access specific characters\n",
    "print(name[0])   # Output: A\n",
    "print(name[3])   # Output: u\n",
    "\n",
    "# Slicing to extract a substring\n",
    "print(name[1:5])  # Output: nkus\n",
    "print(name[:3])   # Output: Ank\n",
    "print(name[3:])   # Output: ush"
   ]
  },
  {
   "cell_type": "markdown",
   "id": "78f4d265-fd20-4090-bc60-a36b98f735a5",
   "metadata": {},
   "source": [
    "## String Formatting\n",
    "- **f-strings** (formatted string literals) are a more readable and efficient way to embed expressions inside string literals.\n",
    "- Example: `f\"Hello, {name}\"` for inserting variables into strings.\n"
   ]
  },
  {
   "cell_type": "code",
   "execution_count": 15,
   "id": "e631c492-472b-4ad3-b6a7-21096ec6f70f",
   "metadata": {},
   "outputs": [
    {
     "name": "stdout",
     "output_type": "stream",
     "text": [
      "Hello, Ankush. You are 25 years old.\n"
     ]
    }
   ],
   "source": [
    "name = \"Ankush\"\n",
    "age = 25\n",
    "\n",
    "# Using f-string formatting\n",
    "greeting = f\"Hello, {name}. You are {age} years old.\"\n",
    "print(greeting)  # Output: Hello, Ankush. You are 25 years old.\n"
   ]
  },
  {
   "cell_type": "markdown",
   "id": "3d853303-7688-4bb5-96ce-03dc6b4d81df",
   "metadata": {},
   "source": [
    "## Important String Methods\n",
    "\n",
    "### `.upper()`\n",
    "- Converts all characters in the string to uppercase.\n",
    "\n",
    "### `.lower()`\n",
    "- Converts all characters in the string to lowercase.\n",
    "\n",
    "### `.title()`\n",
    "- Capitalizes the first character of each word in the string.\n",
    "\n",
    "### `.capitalize()`\n",
    "- Capitalizes the first character of the string and makes all other characters lowercase.\n",
    "\n",
    "### `.split()`\n",
    "- Splits the string into a list based on a separator (default is space).\n",
    "\n",
    "### `.join()`\n",
    "- Joins elements of an iterable (like a list) into a single string with a separator.\n",
    "\n",
    "### `.strip()`\n",
    "- Removes leading and trailing whitespace from the string.\n",
    "\n",
    "### `.replace()`\n",
    "- Replaces a substring within the string with another substring.\n",
    "\n",
    "### `.find()`\n",
    "- Returns the lowest index of the substring if found, otherwise returns `-1`.\n",
    "\n",
    "### `.count()`\n",
    "- Returns the number of occurrences of a substring in the string.\n"
   ]
  },
  {
   "cell_type": "code",
   "execution_count": 16,
   "id": "4b69b8d2-d73e-4e7b-82ee-445e6174a1ef",
   "metadata": {},
   "outputs": [
    {
     "name": "stdout",
     "output_type": "stream",
     "text": [
      "  HELLO, WORLD!  \n",
      "  hello, world!  \n",
      "  Hello, World!  \n",
      "  hello, world!  \n",
      "['Hello,', 'World!']\n",
      "Hello, World!\n",
      "  Hello, Python!  \n",
      "9\n",
      "2\n",
      "Hello, World\n"
     ]
    }
   ],
   "source": [
    "text = \"  Hello, World!  \"\n",
    "\n",
    "# Converting to uppercase and lowercase\n",
    "print(text.upper())      # Output: \"  HELLO, WORLD!  \"\n",
    "print(text.lower())      # Output: \"  hello, world!  \"\n",
    "print(text.title())      # Output: \"  Hello, World!  \"\n",
    "print(text.capitalize()) # Output: \"  hello, world!  \"\n",
    "\n",
    "# Splitting the string into a list of words\n",
    "print(text.split())      # Output: ['Hello,', 'World!']\n",
    "\n",
    "# Stripping leading and trailing whitespaces\n",
    "print(text.strip())      # Output: \"Hello, World!\"\n",
    "\n",
    "# Replacing substring\n",
    "print(text.replace(\"World\", \"Python\"))  # Output: \"  Hello, Python!  \"\n",
    "\n",
    "# Finding substring's index\n",
    "print(text.find(\"World\"))  # Output: 9\n",
    "\n",
    "# Counting occurrences of a substring\n",
    "print(text.count(\"o\"))     # Output: 2\n",
    "\n",
    "# Joining a list into a string\n",
    "words = [\"Hello\", \"World\"]\n",
    "joined_text = \", \".join(words)  # Output: \"Hello, World\"\n",
    "print(joined_text)\n"
   ]
  },
  {
   "cell_type": "markdown",
   "id": "8ceaa31e-c711-459d-9698-16319242e025",
   "metadata": {},
   "source": [
    "# Chapter 4: Lists in Python\n",
    "\n",
    "## What is a List?\n",
    "- A **list** in Python is used to store a collection of items.\n",
    "- Lists are **ordered**, meaning each element has a specific index.\n",
    "- Lists are **mutable**, meaning you can change their content after creation.\n",
    "- Lists can be **heterogeneous**, storing different data types including other lists.\n"
   ]
  },
  {
   "cell_type": "code",
   "execution_count": 17,
   "id": "ca600409-df69-4d57-be8c-e8ac4eafaa35",
   "metadata": {},
   "outputs": [
    {
     "name": "stdout",
     "output_type": "stream",
     "text": [
      "['car', 4.5, True, [1, 2, 3]]\n"
     ]
    }
   ],
   "source": [
    "# Creating a list with multiple data types\n",
    "my_list = [\"car\", 4.5, True, [1, 2, 3]]\n",
    "print(my_list)  # Output: ['car', 4.5, True, [1, 2, 3]]\n"
   ]
  },
  {
   "cell_type": "markdown",
   "id": "d45d22a5-72fd-4c40-9989-004a7a3a3da6",
   "metadata": {},
   "source": [
    "## List Slicing\n",
    "- Syntax: `list[start:end:step]`\n",
    "- Used to access specific sections of the list.\n",
    "\n",
    "> `start` → starting index (inclusive)  \n",
    "> `end` → stopping index (exclusive)  \n",
    "> `step` → interval between elements\n"
   ]
  },
  {
   "cell_type": "code",
   "execution_count": 18,
   "id": "5613f815-fd96-4bde-907f-89aca4061c59",
   "metadata": {},
   "outputs": [
    {
     "name": "stdout",
     "output_type": "stream",
     "text": [
      "[20, 30, 40]\n",
      "[10, 20, 30]\n",
      "[40, 50, 60, 70]\n",
      "[10, 30, 50, 70]\n",
      "[70, 60, 50, 40, 30, 20, 10]\n"
     ]
    }
   ],
   "source": [
    "numbers = [10, 20, 30, 40, 50, 60, 70]\n",
    "\n",
    "print(numbers[1:4])     # Output: [20, 30, 40]\n",
    "print(numbers[:3])      # Output: [10, 20, 30]\n",
    "print(numbers[3:])      # Output: [40, 50, 60, 70]\n",
    "print(numbers[::2])     # Output: [10, 30, 50, 70]\n",
    "print(numbers[::-1])    # Output: [70, 60, 50, 40, 30, 20, 10] (reversed list)\n"
   ]
  },
  {
   "cell_type": "markdown",
   "id": "6774becd-8469-4396-b316-69dc4eb36239",
   "metadata": {},
   "source": [
    "## Useful List Methods\n",
    "\n",
    "| Method         | Description                                      |\n",
    "|----------------|--------------------------------------------------|\n",
    "| `.append(x)`   | Adds an item `x` to the end of the list          |\n",
    "| `.extend(iter)`| Adds multiple elements from iterable             |\n",
    "| `.insert(i, x)`| Inserts item `x` at index `i`                    |\n",
    "| `.remove(x)`   | Removes the first item with value `x`            |\n",
    "| `.pop(i)`      | Removes item at index `i` (default: last)        |\n",
    "| `.index(x)`    | Returns the index of the first item with value `x` |\n",
    "| `.count(x)`    | Counts the number of times `x` occurs            |\n",
    "| `.sort()`      | Sorts the list in ascending order                |\n",
    "| `.reverse()`   | Reverses the list                                |\n",
    "| `.clear()`     | Removes all elements from the list               |\n"
   ]
  },
  {
   "cell_type": "code",
   "execution_count": 19,
   "id": "57857a3b-8f74-4f3e-8c7d-fecabc85fcc1",
   "metadata": {},
   "outputs": [
    {
     "name": "stdout",
     "output_type": "stream",
     "text": [
      "2\n",
      "1\n",
      "['cherry', 'blueberry', 'apple']\n"
     ]
    }
   ],
   "source": [
    "# Demo of list methods\n",
    "fruits = [\"apple\", \"banana\", \"cherry\"]\n",
    "\n",
    "fruits.append(\"date\")         # ['apple', 'banana', 'cherry', 'date']\n",
    "fruits.insert(1, \"blueberry\") # ['apple', 'blueberry', 'banana', 'cherry', 'date']\n",
    "fruits.remove(\"banana\")       # ['apple', 'blueberry', 'cherry', 'date']\n",
    "fruits.pop()                  # Removes 'date'\n",
    "print(fruits.index(\"cherry\")) # Output: 2\n",
    "print(fruits.count(\"apple\"))  # Output: 1\n",
    "\n",
    "fruits.sort()                 # ['apple', 'blueberry', 'cherry']\n",
    "fruits.reverse()              # ['cherry', 'blueberry', 'apple']\n",
    "print(fruits)\n"
   ]
  },
  {
   "cell_type": "markdown",
   "id": "4ca4dcad-724e-476b-b682-7f0286ab57b3",
   "metadata": {},
   "source": [
    "## List Concatenation\n",
    "\n",
    "- You can **combine two or more lists** using the `+` operator.\n",
    "- This creates a **new list** without modifying the original ones.\n",
    "- You can also use `*` to repeat list items.\n"
   ]
  },
  {
   "cell_type": "code",
   "execution_count": 23,
   "id": "9993f8d5-3936-49b7-b0b5-891ecd719bd0",
   "metadata": {},
   "outputs": [
    {
     "name": "stdout",
     "output_type": "stream",
     "text": [
      "[1, 2, 3, 4, 5, 6]\n",
      "[1, 2, 3, 1, 2, 3]\n"
     ]
    }
   ],
   "source": [
    "# Concatenating lists using +\n",
    "list1 = [1, 2, 3]\n",
    "list2 = [4, 5, 6]\n",
    "\n",
    "combined = list1 + list2\n",
    "print(combined)  # Output: [1, 2, 3, 4, 5, 6]\n",
    "\n",
    "# Repeating list elements\n",
    "repeated = list1 * 2\n",
    "print(repeated)  # Output: [1, 2, 3, 1, 2, 3]\n"
   ]
  },
  {
   "cell_type": "markdown",
   "id": "4c6d8914-3cc8-45e1-8f79-72734cddd2f4",
   "metadata": {},
   "source": [
    "# Chapter 5: Conditional Statements (if, elif, else)\n",
    "\n",
    "- Conditional statements control the **flow of a program** by executing code only when certain conditions are true.\n",
    "- Python uses `if`, `elif`, and `else` to implement decision-making logic.\n"
   ]
  },
  {
   "cell_type": "code",
   "execution_count": 21,
   "id": "4cf362b9-d63f-45b0-b698-a4916746c825",
   "metadata": {},
   "outputs": [
    {
     "name": "stdout",
     "output_type": "stream",
     "text": [
      "You're eligible to vote.\n"
     ]
    }
   ],
   "source": [
    "# Simple if statement\n",
    "age = 18\n",
    "\n",
    "if age >= 18:\n",
    "    print(\"You're eligible to vote.\")\n"
   ]
  },
  {
   "cell_type": "markdown",
   "id": "2db4807d-55d6-4f0d-9a67-40ca97a79964",
   "metadata": {},
   "source": [
    "## if-elif-else Structure\n",
    "\n",
    "- Use `elif` (short for \"else if\") to check **multiple conditions**.\n",
    "- Use `else` as a **fallback** when no conditions are met.\n"
   ]
  },
  {
   "cell_type": "code",
   "execution_count": 24,
   "id": "7f35d6f9-381b-46c6-8499-8f48ad6e8abc",
   "metadata": {},
   "outputs": [
    {
     "name": "stdout",
     "output_type": "stream",
     "text": [
      "Grade: C\n"
     ]
    }
   ],
   "source": [
    "marks = 72\n",
    "\n",
    "if marks >= 90:\n",
    "    print(\"Grade: A\")\n",
    "elif marks >= 75:\n",
    "    print(\"Grade: B\")\n",
    "elif marks >= 60:\n",
    "    print(\"Grade: C\")\n",
    "else:\n",
    "    print(\"Grade: D\")\n"
   ]
  },
  {
   "cell_type": "markdown",
   "id": "273f39a6-e3bd-40f0-99f9-e31f5fd13897",
   "metadata": {},
   "source": [
    "## Logical Operators\n",
    "\n",
    "| Operator | Description                     | Example                          |\n",
    "|----------|---------------------------------|----------------------------------|\n",
    "| `and`    | True if both conditions are true| `a > 10 and a < 20`              |\n",
    "| `or`     | True if at least one is true    | `a < 5 or b > 10`                |\n",
    "| `not`    | Negates the condition           | `not (a == b)`                   |\n"
   ]
  },
  {
   "cell_type": "code",
   "execution_count": 25,
   "id": "1c4b923a-4e00-4f07-a760-19f70c68da07",
   "metadata": {},
   "outputs": [
    {
     "name": "stdout",
     "output_type": "stream",
     "text": [
      "Go for a walk!\n"
     ]
    }
   ],
   "source": [
    "# Example with logical operators\n",
    "temperature = 30\n",
    "is_sunny = True\n",
    "\n",
    "if temperature > 25 and is_sunny:\n",
    "    print(\"Go for a walk!\")\n",
    "\n",
    "if temperature < 15 or not is_sunny:\n",
    "    print(\"Stay indoors.\")\n"
   ]
  },
  {
   "cell_type": "markdown",
   "id": "14276bc4-be69-4299-826c-014a7f0f99b8",
   "metadata": {},
   "source": [
    "## Nested if Statements\n",
    "\n",
    "- `if` statements can be **nested** inside other `if` blocks for layered decision-making.\n"
   ]
  },
  {
   "cell_type": "code",
   "execution_count": 26,
   "id": "fc9765d4-f6ad-4020-8bd2-ddd61976201c",
   "metadata": {},
   "outputs": [
    {
     "name": "stdout",
     "output_type": "stream",
     "text": [
      "Access granted.\n"
     ]
    }
   ],
   "source": [
    "# Nested if example\n",
    "user = \"admin\"\n",
    "password = \"1234\"\n",
    "\n",
    "if user == \"admin\":\n",
    "    if password == \"1234\":\n",
    "        print(\"Access granted.\")\n",
    "    else:\n",
    "        print(\"Incorrect password.\")\n",
    "else:\n",
    "    print(\"Unknown user.\")\n"
   ]
  },
  {
   "cell_type": "markdown",
   "id": "2af21c63-25f3-4a9c-ab1f-80d9d2c64e1e",
   "metadata": {},
   "source": [
    "# Chapter 6: Loops in Python\n",
    "\n",
    "Loops are used to execute a block of code repeatedly.\n",
    "\n",
    "## for Loops\n",
    "\n",
    "- Used to **iterate over a sequence** (like list, tuple, string).\n",
    "- Often used with the `range()` function to run for a fixed number of steps.\n"
   ]
  },
  {
   "cell_type": "code",
   "execution_count": 27,
   "id": "6d347b9c-bcf3-4caa-b52d-4a6f1e99aeea",
   "metadata": {},
   "outputs": [
    {
     "name": "stdout",
     "output_type": "stream",
     "text": [
      "apple\n",
      "banana\n",
      "cherry\n"
     ]
    }
   ],
   "source": [
    "# Iterating over a list\n",
    "fruits = [\"apple\", \"banana\", \"cherry\"]\n",
    "for fruit in fruits:\n",
    "    print(fruit)\n"
   ]
  },
  {
   "cell_type": "markdown",
   "id": "dacec3ae-57af-4d4c-add0-d9701c76a425",
   "metadata": {},
   "source": [
    "## Using range() with for loops\n",
    "\n",
    "- The `range()` function generates a **sequence of numbers**, useful when looping a specific number of times.\n",
    "- Syntax: `range(start, stop, step)`\n"
   ]
  },
  {
   "cell_type": "code",
   "execution_count": 29,
   "id": "bbc9bc89-4e9e-437e-b773-7b27960bc6be",
   "metadata": {},
   "outputs": [
    {
     "name": "stdout",
     "output_type": "stream",
     "text": [
      "0\n",
      "1\n",
      "2\n",
      "3\n",
      "4\n",
      "1\n",
      "3\n",
      "5\n",
      "7\n",
      "9\n"
     ]
    }
   ],
   "source": [
    "# Using range to print numbers from 0 to 4\n",
    "for i in range(5):\n",
    "    print(i)\n",
    "\n",
    "# Using range with start and step\n",
    "for i in range(1, 10, 2):\n",
    "    print(i)  # Prints odd numbers between 1 and 9\n"
   ]
  },
  {
   "cell_type": "markdown",
   "id": "266e2875-d419-4f4d-a832-6668c93fb86e",
   "metadata": {},
   "source": [
    "## while Loops\n",
    "\n",
    "- Executes a block of code **as long as a condition is true**.\n"
   ]
  },
  {
   "cell_type": "code",
   "execution_count": 30,
   "id": "5bf717cd-2372-4168-b5f7-2ca2fef53a92",
   "metadata": {},
   "outputs": [
    {
     "name": "stdout",
     "output_type": "stream",
     "text": [
      "Count is: 0\n",
      "Count is: 1\n",
      "Count is: 2\n",
      "Count is: 3\n",
      "Count is: 4\n"
     ]
    }
   ],
   "source": [
    "# Example: while loop\n",
    "count = 0\n",
    "while count < 5:\n",
    "    print(\"Count is:\", count)\n",
    "    count += 1\n"
   ]
  },
  {
   "cell_type": "markdown",
   "id": "e1d83ab3-c487-48bc-8f96-c4cdb5e56681",
   "metadata": {},
   "source": [
    "⚠️ Caution:\n",
    "- Always make sure the condition in `while` loop **will eventually become false** to avoid infinite loops.\n"
   ]
  },
  {
   "cell_type": "markdown",
   "id": "4cae8aa8-fc6d-4372-9cfd-c574196c6505",
   "metadata": {},
   "source": [
    "## Loop Control Statements\n",
    "\n",
    "- `break`: Terminates the loop completely.\n",
    "- `continue`: Skips the current iteration and jumps to the next.\n"
   ]
  },
  {
   "cell_type": "code",
   "execution_count": 31,
   "id": "34157fed-2b4f-4367-bef0-ed94020a5f38",
   "metadata": {},
   "outputs": [
    {
     "name": "stdout",
     "output_type": "stream",
     "text": [
      "1\n",
      "2\n",
      "3\n",
      "1\n",
      "2\n",
      "4\n",
      "5\n"
     ]
    }
   ],
   "source": [
    "# break example\n",
    "for i in range(1, 6):\n",
    "    if i == 4:\n",
    "        break\n",
    "    print(i)\n",
    "\n",
    "# continue example\n",
    "for i in range(1, 6):\n",
    "    if i == 3:\n",
    "        continue\n",
    "    print(i)\n"
   ]
  },
  {
   "cell_type": "markdown",
   "id": "c635749d-7fb8-437a-b78d-c5664db78a2e",
   "metadata": {},
   "source": [
    "## enumerate() in for loops\n",
    "\n",
    "- `enumerate()` returns **index and element** in a loop.\n"
   ]
  },
  {
   "cell_type": "code",
   "execution_count": 32,
   "id": "c6e17e74-5c34-4790-8d8a-643a82c7fc33",
   "metadata": {},
   "outputs": [
    {
     "name": "stdout",
     "output_type": "stream",
     "text": [
      "0: red\n",
      "1: green\n",
      "2: blue\n"
     ]
    }
   ],
   "source": [
    "colors = [\"red\", \"green\", \"blue\"]\n",
    "for index, color in enumerate(colors):\n",
    "    print(f\"{index}: {color}\")\n"
   ]
  },
  {
   "cell_type": "markdown",
   "id": "4ddcec48-32b1-4312-bab0-aff89cc65231",
   "metadata": {},
   "source": [
    "# Chapter 7: Functions in Python\n",
    "\n",
    "Functions are reusable blocks of code that perform a specific task.\n"
   ]
  },
  {
   "cell_type": "markdown",
   "id": "ee566948-c149-440a-981c-03309d6ebe31",
   "metadata": {},
   "source": [
    "## 1. Defining a Function\n",
    "\n",
    "- Use the `def` keyword followed by the function name and parentheses.\n"
   ]
  },
  {
   "cell_type": "code",
   "execution_count": 35,
   "id": "e339e780-22a3-4d1b-a6ab-a4e1553e5866",
   "metadata": {},
   "outputs": [
    {
     "name": "stdout",
     "output_type": "stream",
     "text": [
      "Hello!\n"
     ]
    }
   ],
   "source": [
    "def greet():\n",
    "    print(\"Hello!\")\n",
    "\n",
    "greet()"
   ]
  },
  {
   "cell_type": "markdown",
   "id": "b0bf6e4a-2d03-45ab-9183-1a1dc24bc285",
   "metadata": {},
   "source": [
    "## 2. Parameters and Arguments\n",
    "\n",
    "- Parameters are defined in the function.\n",
    "- Arguments are values passed when calling the function.\n"
   ]
  },
  {
   "cell_type": "code",
   "execution_count": 36,
   "id": "016b8464-5bb9-40f0-ad0c-c55d6281d0a0",
   "metadata": {},
   "outputs": [
    {
     "name": "stdout",
     "output_type": "stream",
     "text": [
      "Hello, Ankush!\n"
     ]
    }
   ],
   "source": [
    "def greet_user(name):\n",
    "    print(f\"Hello, {name}!\")\n",
    "\n",
    "greet_user(\"Ankush\")"
   ]
  },
  {
   "cell_type": "markdown",
   "id": "88e8a53c-6b97-4f34-afe1-7de84a9f7934",
   "metadata": {},
   "source": [
    "## 3. Return Statement\n",
    "\n",
    "- The `return` statement sends a value back to the caller.\n"
   ]
  },
  {
   "cell_type": "code",
   "execution_count": 37,
   "id": "bc3836aa-f35e-41f7-8d7a-0b7e37cc433e",
   "metadata": {},
   "outputs": [
    {
     "name": "stdout",
     "output_type": "stream",
     "text": [
      "Result: 8\n"
     ]
    }
   ],
   "source": [
    "def add(a, b):\n",
    "    return a + b\n",
    "\n",
    "result = add(5, 3)\n",
    "print(\"Result:\", result)\n"
   ]
  },
  {
   "cell_type": "markdown",
   "id": "b8fafd67-3a08-44bb-9ec3-af9abd42a7fd",
   "metadata": {},
   "source": [
    "## 4. Default Parameters\n",
    "\n",
    "- Assign default values in the parameter list.\n"
   ]
  },
  {
   "cell_type": "code",
   "execution_count": 38,
   "id": "07d71f48-4e56-4766-b31b-a815ad050830",
   "metadata": {},
   "outputs": [
    {
     "name": "stdout",
     "output_type": "stream",
     "text": [
      "Welcome, Guest!\n",
      "Welcome, Ankush!\n"
     ]
    }
   ],
   "source": [
    "def greet(name=\"Guest\"):\n",
    "    print(f\"Welcome, {name}!\")\n",
    "\n",
    "greet()\n",
    "greet(\"Ankush\")\n"
   ]
  },
  {
   "cell_type": "markdown",
   "id": "2784e2d3-c1a2-4d5b-9553-0c3aeb14ac3b",
   "metadata": {},
   "source": [
    "## 5. Arbitrary Arguments (*args)\n",
    "\n",
    "- Use `*args` to accept variable number of **non-keyword** arguments (tuple).\n"
   ]
  },
  {
   "cell_type": "code",
   "execution_count": 39,
   "id": "d4c7a851-bd4d-42cd-acc0-bc500d20e725",
   "metadata": {},
   "outputs": [
    {
     "name": "stdout",
     "output_type": "stream",
     "text": [
      "1\n",
      "2\n",
      "3\n",
      "4\n"
     ]
    }
   ],
   "source": [
    "def print_numbers(*args):\n",
    "    for num in args:\n",
    "        print(num)\n",
    "\n",
    "print_numbers(1, 2, 3, 4)\n"
   ]
  },
  {
   "cell_type": "markdown",
   "id": "ecd80e14-dcfb-4072-9066-c44e87f6697b",
   "metadata": {},
   "source": [
    "## 6. Keyword Arguments\n",
    "\n",
    "- Keyword arguments are passed using key=value syntax."
   ]
  },
  {
   "cell_type": "code",
   "execution_count": 40,
   "id": "94524987-7758-4ac8-b4b1-92d6fe4eb7d3",
   "metadata": {},
   "outputs": [
    {
     "name": "stdout",
     "output_type": "stream",
     "text": [
      "I have a dog named Buddy.\n"
     ]
    }
   ],
   "source": [
    "def describe_pet(animal, name):\n",
    "    print(f\"I have a {animal} named {name}.\")\n",
    "\n",
    "describe_pet(animal=\"dog\", name=\"Buddy\")\n"
   ]
  },
  {
   "cell_type": "markdown",
   "id": "ea79a0a2-3644-4a43-99a2-2339da654487",
   "metadata": {},
   "source": [
    "## 7. Arbitrary Keyword Arguments (**kwargs)\n",
    "\n",
    "- Use `**kwargs` to accept variable number of **keyword** arguments (dictionary)."
   ]
  },
  {
   "cell_type": "code",
   "execution_count": 41,
   "id": "577631ea-2f9a-4c00-b3cb-af3263387953",
   "metadata": {},
   "outputs": [
    {
     "name": "stdout",
     "output_type": "stream",
     "text": [
      "name: Ankush\n",
      "age: 25\n",
      "city: Bangalore\n"
     ]
    }
   ],
   "source": [
    "def print_user_info(**kwargs):\n",
    "    for key, value in kwargs.items():\n",
    "        print(f\"{key}: {value}\")\n",
    "\n",
    "print_user_info(name=\"Ankush\", age=25, city=\"Bangalore\")\n"
   ]
  },
  {
   "cell_type": "markdown",
   "id": "053a6352-dfdc-4228-aaf2-8c0ee8b1ee44",
   "metadata": {},
   "source": [
    "## 8. Lambda Functions (Anonymous Functions)\n",
    "\n",
    "- `lambda` creates small, one-line anonymous functions.\n",
    "- Syntax: `lambda arguments: expression`\n"
   ]
  },
  {
   "cell_type": "code",
   "execution_count": 42,
   "id": "c69ef8b4-e3f7-4ae5-8939-fea6daea07f4",
   "metadata": {},
   "outputs": [
    {
     "name": "stdout",
     "output_type": "stream",
     "text": [
      "25\n",
      "25\n",
      "7\n"
     ]
    }
   ],
   "source": [
    "# Regular function\n",
    "def square(x):\n",
    "    return x * x\n",
    "\n",
    "print(square(5))\n",
    "\n",
    "# Lambda function\n",
    "square_lambda = lambda x: x * x\n",
    "print(square_lambda(5))\n",
    "\n",
    "# Lambda with multiple arguments\n",
    "add = lambda x, y: x + y\n",
    "print(add(3, 4))\n"
   ]
  },
  {
   "cell_type": "markdown",
   "id": "2993b211-d4d4-4f96-a431-05f29a604321",
   "metadata": {},
   "source": [
    "## 9. Variable Scope in Python\n",
    "\n",
    "- **Local Scope**: Inside the function.\n",
    "- **Global Scope**: Outside the function, available throughout the program."
   ]
  },
  {
   "cell_type": "code",
   "execution_count": 43,
   "id": "0228dd96-79f7-4b15-a132-a6538437c4fb",
   "metadata": {},
   "outputs": [
    {
     "name": "stdout",
     "output_type": "stream",
     "text": [
      "Inside function: 5\n",
      "Outside function: 10\n"
     ]
    }
   ],
   "source": [
    "x = 10  # Global variable\n",
    "\n",
    "def my_function():\n",
    "    x = 5  # Local variable\n",
    "    print(\"Inside function:\", x)\n",
    "\n",
    "my_function()\n",
    "print(\"Outside function:\", x)\n"
   ]
  },
  {
   "cell_type": "markdown",
   "id": "07dfa90b-5602-49a7-bc29-6003e38f3017",
   "metadata": {},
   "source": [
    "### Using `global` Keyword\n",
    "\n",
    "- Modify a global variable from within a function."
   ]
  },
  {
   "cell_type": "code",
   "execution_count": 45,
   "id": "1014a055-c950-4149-88e2-cca34857bd24",
   "metadata": {},
   "outputs": [
    {
     "name": "stdout",
     "output_type": "stream",
     "text": [
      "Count: 1\n"
     ]
    }
   ],
   "source": [
    "count = 0\n",
    "\n",
    "def increment():\n",
    "    global count\n",
    "    count += 1\n",
    "\n",
    "increment()\n",
    "print(\"Count:\", count)\n"
   ]
  },
  {
   "cell_type": "markdown",
   "id": "88719b5c-f29c-4ae0-8cf3-ef7f9a2673b5",
   "metadata": {},
   "source": [
    "# Chapter 8: Tuples and Dictionaries in Python\n",
    "\n",
    "Tuples and Dictionaries are important built-in data structures in Python. Tuples are immutable, while dictionaries are mutable and store data as key-value pairs.\n"
   ]
  },
  {
   "cell_type": "markdown",
   "id": "e9318855-8853-43d1-99ee-9a61bed3e152",
   "metadata": {},
   "source": [
    "## 1. Tuples in Python\n",
    "\n",
    "- Tuples are ordered and immutable sequences.\n",
    "- Once created, the contents of a tuple cannot be changed.\n"
   ]
  },
  {
   "cell_type": "code",
   "execution_count": 46,
   "id": "b94ebb59-76ef-4f6f-b052-035a7039c617",
   "metadata": {},
   "outputs": [
    {
     "name": "stdout",
     "output_type": "stream",
     "text": [
      "1\n",
      "4.5\n",
      "apple\n"
     ]
    }
   ],
   "source": [
    "# Creating a tuple\n",
    "my_tuple = (1, 2, 3, \"apple\", 4.5)\n",
    "\n",
    "# Accessing elements\n",
    "print(my_tuple[0])\n",
    "print(my_tuple[-1])\n",
    "\n",
    "# Tuple unpacking\n",
    "a, b, c, d, e = my_tuple\n",
    "print(d)\n",
    "\n",
    "# Checking immutability (this will raise an error)\n",
    "# my_tuple[1] = 10  # ❌ TypeError\n"
   ]
  },
  {
   "cell_type": "markdown",
   "id": "772c1b77-547b-49ed-a2d0-63514c757352",
   "metadata": {},
   "source": [
    "## 2. Common Tuple Operations\n",
    "\n",
    "- Tuples can be used in loops, sliced, and have built-in methods like `.count()` and `.index()`.\n"
   ]
  },
  {
   "cell_type": "code",
   "execution_count": 47,
   "id": "9f15c141-3daa-42a2-bba3-636271db759d",
   "metadata": {},
   "outputs": [
    {
     "name": "stdout",
     "output_type": "stream",
     "text": [
      "5\n",
      "(2, 3, 'apple')\n",
      "1\n",
      "3\n"
     ]
    }
   ],
   "source": [
    "# Length of a tuple\n",
    "print(len(my_tuple))\n",
    "\n",
    "# Slicing a tuple\n",
    "print(my_tuple[1:4])\n",
    "\n",
    "# Using tuple methods\n",
    "print(my_tuple.count(2))  # Count of element\n",
    "print(my_tuple.index(\"apple\"))  # Index of element\n"
   ]
  },
  {
   "cell_type": "markdown",
   "id": "59ceee95-1c9e-47dc-a77d-fcfdd312e850",
   "metadata": {},
   "source": [
    "## 3. Dictionaries in Python\n",
    "\n",
    "- Dictionaries store data in key-value pairs.\n",
    "- Dictionaries are **mutable** and **unordered** (before Python 3.7).\n",
    "- Fast lookup and insertion by key.\n"
   ]
  },
  {
   "cell_type": "code",
   "execution_count": 48,
   "id": "b24b1613-2c0e-4d44-a589-3f7f909b7ccd",
   "metadata": {},
   "outputs": [
    {
     "name": "stdout",
     "output_type": "stream",
     "text": [
      "Ankush\n",
      "25\n",
      "{'name': 'Ankush', 'age': 25, 'is_student': True, 'city': 'Bangalore'}\n",
      "{'name': 'Ankush', 'age': 26, 'city': 'Bangalore'}\n"
     ]
    }
   ],
   "source": [
    "# Creating a dictionary\n",
    "my_dict = {\n",
    "    \"name\": \"Ankush\",\n",
    "    \"age\": 25,\n",
    "    \"is_student\": True\n",
    "}\n",
    "\n",
    "# Accessing values\n",
    "print(my_dict[\"name\"])\n",
    "print(my_dict.get(\"age\"))\n",
    "\n",
    "# Adding a new key-value pair\n",
    "my_dict[\"city\"] = \"Bangalore\"\n",
    "print(my_dict)\n",
    "\n",
    "# Modifying values\n",
    "my_dict[\"age\"] = 26\n",
    "\n",
    "# Removing a key-value pair\n",
    "my_dict.pop(\"is_student\")\n",
    "print(my_dict)\n"
   ]
  },
  {
   "cell_type": "markdown",
   "id": "0b6f3e80-c1a6-4be9-9e00-2069431a1cd7",
   "metadata": {},
   "source": [
    "## 4. Keys Must Be Unique and Immutable\n",
    "\n",
    "- Keys in dictionaries must be of immutable types: strings, numbers, or tuples.\n"
   ]
  },
  {
   "cell_type": "code",
   "execution_count": 49,
   "id": "e3316e08-2247-4056-a403-38b9c4bd5b1b",
   "metadata": {},
   "outputs": [
    {
     "name": "stdout",
     "output_type": "stream",
     "text": [
      "{1: 'One', 'two': 2, (3, 4): 'Tuple Key'}\n"
     ]
    }
   ],
   "source": [
    "# Valid keys\n",
    "valid_dict = {\n",
    "    1: \"One\",\n",
    "    \"two\": 2,\n",
    "    (3, 4): \"Tuple Key\"\n",
    "}\n",
    "print(valid_dict)\n",
    "\n",
    "# Invalid key example (will raise error)\n",
    "# invalid_dict = {[1, 2]: \"List Key\"}  # ❌ TypeError\n"
   ]
  },
  {
   "cell_type": "markdown",
   "id": "24352d3b-95a4-4f97-b727-e04146469172",
   "metadata": {},
   "source": [
    "## 5. Dictionary Methods\n",
    "\n",
    "- `keys()`, `values()`, and `items()` allow you to interact with dictionaries.\n"
   ]
  },
  {
   "cell_type": "code",
   "execution_count": 50,
   "id": "ab35c2e2-f0a9-4fca-a0a9-42a626ff0621",
   "metadata": {},
   "outputs": [
    {
     "name": "stdout",
     "output_type": "stream",
     "text": [
      "Keys: dict_keys(['name', 'age', 'city'])\n",
      "Values: dict_values(['Ankush', 26, 'Bangalore'])\n",
      "Items: dict_items([('name', 'Ankush'), ('age', 26), ('city', 'Bangalore')])\n",
      "name: Ankush\n",
      "age: 26\n",
      "city: Bangalore\n"
     ]
    }
   ],
   "source": [
    "print(\"Keys:\", my_dict.keys())\n",
    "print(\"Values:\", my_dict.values())\n",
    "print(\"Items:\", my_dict.items())\n",
    "\n",
    "# Iterating over a dictionary\n",
    "for key, value in my_dict.items():\n",
    "    print(f\"{key}: {value}\")\n"
   ]
  },
  {
   "cell_type": "markdown",
   "id": "acf1fdbc-2a03-47f8-aa7e-8aae6ba00a47",
   "metadata": {},
   "source": [
    "# Chapter 9: Sets in Python\n",
    "\n",
    "Sets are unordered collections of unique items in Python. They are useful when you want to store non-duplicate values and perform mathematical set operations like union, intersection, and difference.\n"
   ]
  },
  {
   "cell_type": "markdown",
   "id": "c83dadd4-822c-47af-a25f-9b5931ee0bda",
   "metadata": {},
   "source": [
    "## 1. Creating Sets\n",
    "\n",
    "- Sets are defined using curly braces `{}` or the `set()` constructor.\n",
    "- They automatically remove duplicate values.\n"
   ]
  },
  {
   "cell_type": "code",
   "execution_count": 51,
   "id": "96e4f587-dc73-43ab-a687-0d2817d6a457",
   "metadata": {},
   "outputs": [
    {
     "name": "stdout",
     "output_type": "stream",
     "text": [
      "{1, 2, 3, 4, 5}\n",
      "{1, 2, 3, 4}\n"
     ]
    }
   ],
   "source": [
    "# Creating a set\n",
    "my_set = {1, 2, 3, 4, 4, 5}\n",
    "print(my_set)  # Output: {1, 2, 3, 4, 5}\n",
    "\n",
    "# Creating a set from a list\n",
    "set_from_list = set([1, 2, 2, 3, 4])\n",
    "print(set_from_list)\n"
   ]
  },
  {
   "cell_type": "markdown",
   "id": "5e7b56be-61c1-4816-a033-b9b1183b87f7",
   "metadata": {},
   "source": [
    "## 2. Set Characteristics\n",
    "\n",
    "- Unordered: No indexing or slicing.\n",
    "- Mutable: Can add or remove elements.\n",
    "- Elements must be immutable (int, float, str, tuple)."
   ]
  },
  {
   "cell_type": "code",
   "execution_count": 52,
   "id": "926bae6d-e865-48c0-9618-678b785e17bf",
   "metadata": {},
   "outputs": [],
   "source": [
    "# Invalid set with mutable elements\n",
    "# invalid_set = {[1, 2], 3}  # ❌ Will raise TypeError\n"
   ]
  },
  {
   "cell_type": "markdown",
   "id": "64f4489a-7a5a-4b6c-9c7d-83dde65a2b17",
   "metadata": {},
   "source": [
    "## 3. Basic Set Operations\n"
   ]
  },
  {
   "cell_type": "code",
   "execution_count": 53,
   "id": "37de46ba-ebe5-4231-b6bc-766db5e2e8e0",
   "metadata": {},
   "outputs": [
    {
     "name": "stdout",
     "output_type": "stream",
     "text": [
      "Union: {1, 2, 3, 4, 5, 6}\n",
      "Intersection: {3, 4}\n",
      "Difference (a - b): {1, 2}\n",
      "Difference (b - a): {5, 6}\n",
      "Symmetric Difference: {1, 2, 5, 6}\n"
     ]
    }
   ],
   "source": [
    "a = {1, 2, 3, 4}\n",
    "b = {3, 4, 5, 6}\n",
    "\n",
    "# Union\n",
    "print(\"Union:\", a | b)  # {1, 2, 3, 4, 5, 6}\n",
    "\n",
    "# Intersection\n",
    "print(\"Intersection:\", a & b)  # {3, 4}\n",
    "\n",
    "# Difference\n",
    "print(\"Difference (a - b):\", a - b)  # {1, 2}\n",
    "print(\"Difference (b - a):\", b - a)  # {5, 6}\n",
    "\n",
    "# Symmetric Difference (elements in either set, not both)\n",
    "print(\"Symmetric Difference:\", a ^ b)  # {1, 2, 5, 6}\n"
   ]
  },
  {
   "cell_type": "markdown",
   "id": "f038b79a-92dd-4ac8-98fb-0e987f3f9e2b",
   "metadata": {},
   "source": [
    "## 4. Modifying Sets\n"
   ]
  },
  {
   "cell_type": "code",
   "execution_count": 54,
   "id": "de6315bf-bd73-4da6-92d2-009692d68660",
   "metadata": {},
   "outputs": [
    {
     "name": "stdout",
     "output_type": "stream",
     "text": [
      "{40, 10, 20, 30}\n",
      "{40, 10, 50, 20, 60, 30}\n",
      "{40, 10, 50, 20, 60}\n",
      "{40, 10, 50, 20, 60}\n",
      "set()\n"
     ]
    }
   ],
   "source": [
    "s = {10, 20, 30}\n",
    "\n",
    "# Adding elements\n",
    "s.add(40)\n",
    "print(s)\n",
    "\n",
    "# Adding multiple elements\n",
    "s.update([50, 60])\n",
    "print(s)\n",
    "\n",
    "# Removing elements\n",
    "s.remove(30)  # Raises KeyError if element not found\n",
    "print(s)\n",
    "\n",
    "s.discard(100)  # Safe: does not raise error\n",
    "print(s)\n",
    "\n",
    "# Clearing all elements\n",
    "s.clear()\n",
    "print(s)  # Output: set()\n"
   ]
  },
  {
   "cell_type": "code",
   "execution_count": null,
   "id": "a3d97440-494c-405e-86e5-4f8e2fa320d1",
   "metadata": {},
   "outputs": [],
   "source": []
  }
 ],
 "metadata": {
  "kernelspec": {
   "display_name": "Python 3 (ipykernel)",
   "language": "python",
   "name": "python3"
  },
  "language_info": {
   "codemirror_mode": {
    "name": "ipython",
    "version": 3
   },
   "file_extension": ".py",
   "mimetype": "text/x-python",
   "name": "python",
   "nbconvert_exporter": "python",
   "pygments_lexer": "ipython3",
   "version": "3.13.2"
  }
 },
 "nbformat": 4,
 "nbformat_minor": 5
}
