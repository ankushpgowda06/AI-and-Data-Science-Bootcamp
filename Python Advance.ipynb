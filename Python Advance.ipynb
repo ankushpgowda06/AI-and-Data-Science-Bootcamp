{
 "cells": [
  {
   "cell_type": "markdown",
   "id": "c486aae1-674e-4cda-8273-458217520220",
   "metadata": {},
   "source": [
    "# Chapter 1: Python Comprehensions\n",
    "### List Comprehensions\n",
    "List comprehensions provide a **concise** way to create lists by running a `for` loop in a single line.\n"
   ]
  },
  {
   "cell_type": "code",
   "execution_count": 1,
   "id": "18314b28-cb2c-4f05-a900-950b28964767",
   "metadata": {},
   "outputs": [
    {
     "name": "stdout",
     "output_type": "stream",
     "text": [
      "[0, 1, 4, 9, 16, 25, 36, 49, 64, 81]\n"
     ]
    }
   ],
   "source": [
    "squares = [x ** 2 for x in range(10)]\n",
    "print(squares)"
   ]
  },
  {
   "cell_type": "markdown",
   "id": "c523f7af-ba27-4993-bde1-a78ce5d1b764",
   "metadata": {},
   "source": [
    "**Why use list comprehensions?**\n",
    "- More readable\n",
    "- Faster than traditional loops\n",
    "- Ideal for transforming or filtering data"
   ]
  },
  {
   "cell_type": "code",
   "execution_count": 3,
   "id": "8f6ca11b-e370-4e90-af81-351dbda6e262",
   "metadata": {},
   "outputs": [],
   "source": [
    "# Traditional way\n",
    "squares = []\n",
    "for x in range(10):\n",
    "    squares.append(x ** 2)\n",
    "\n",
    "# List comprehension version\n",
    "squares = [x ** 2 for x in range(10)]"
   ]
  },
  {
   "cell_type": "markdown",
   "id": "1b66bb56-945b-4105-817c-c9d4ead12631",
   "metadata": {},
   "source": [
    "### Dictionary Comprehensions\n",
    "\n",
    "Dictionary comprehensions allow for the **dynamic construction** of dictionaries in a single line."
   ]
  },
  {
   "cell_type": "code",
   "execution_count": 4,
   "id": "4441f2bd-c9f3-48a3-a641-ac5d0d3b785f",
   "metadata": {},
   "outputs": [
    {
     "name": "stdout",
     "output_type": "stream",
     "text": [
      "{0: 0, 1: 1, 2: 4, 3: 9, 4: 16}\n"
     ]
    }
   ],
   "source": [
    "squares_dict = {x: x ** 2 for x in range(5)}\n",
    "print(squares_dict)"
   ]
  },
  {
   "cell_type": "markdown",
   "id": "478ad49a-0fe1-40ff-bd39-f7b6c89c2ad4",
   "metadata": {},
   "source": [
    "### Set Comprehensions\n",
    "\n",
    "Set comprehensions are like list comprehensions, but they produce a **set**, removing duplicates automatically."
   ]
  },
  {
   "cell_type": "code",
   "execution_count": 6,
   "id": "b0189006-4367-49d4-a01b-d8995dc7b72c",
   "metadata": {},
   "outputs": [
    {
     "name": "stdout",
     "output_type": "stream",
     "text": [
      "{1, 4, 9, 16, 25}\n"
     ]
    }
   ],
   "source": [
    "unique_squares = {x ** 2 for x in [1, 2, 2, 3, 4, 4, 5]}\n",
    "print(unique_squares)"
   ]
  },
  {
   "cell_type": "markdown",
   "id": "3bfbc92f-8a80-459f-9527-8acbf412f243",
   "metadata": {},
   "source": [
    "###  Adding Conditionals to Comprehensions\n",
    "\n",
    "You can include **`if` statements** to filter elements in all types of comprehensions."
   ]
  },
  {
   "cell_type": "code",
   "execution_count": 7,
   "id": "4c70cb5b-b098-4881-9691-109044e907aa",
   "metadata": {},
   "outputs": [
    {
     "name": "stdout",
     "output_type": "stream",
     "text": [
      "[0, 2, 4, 6, 8]\n"
     ]
    }
   ],
   "source": [
    "# List with only even numbers\n",
    "even_numbers = [x for x in range(10) if x % 2 == 0]\n",
    "print(even_numbers)"
   ]
  },
  {
   "cell_type": "code",
   "execution_count": 9,
   "id": "8efff83c-2863-4d95-82bb-a7f1732b1ad0",
   "metadata": {},
   "outputs": [
    {
     "name": "stdout",
     "output_type": "stream",
     "text": [
      "[0, -1, 2, -1, 4, -1, 6, -1, 8, -1]\n"
     ]
    }
   ],
   "source": [
    "# Replace odd numbers with -1\n",
    "transformed = [x if x % 2 == 0 else -1 for x in range(10)]\n",
    "print(transformed)"
   ]
  },
  {
   "cell_type": "markdown",
   "id": "51cee577-24e3-4bbe-84ee-a17878fa194f",
   "metadata": {},
   "source": [
    "# Chapter 2: Working with JSON in Python\n"
   ]
  },
  {
   "cell_type": "markdown",
   "id": "c4061a32-5e01-477f-8cef-dd1ec33ffc19",
   "metadata": {},
   "source": [
    "### What is JSON?\n",
    "\n",
    "- **JSON (JavaScript Object Notation)** is a lightweight, text-based data format.\n",
    "- It is widely used for **data exchange** between servers and web applications.\n",
    "- JSON is easy to read and write for both humans and machines.\n"
   ]
  },
  {
   "cell_type": "markdown",
   "id": "0c0c0d9f-f8de-4336-91fc-1131bf8200f8",
   "metadata": {},
   "source": [
    "### Python's `json` Module\n",
    "\n",
    "- Python provides the built-in `json` module to work with JSON data.\n",
    "- You can **encode** (serialize) and **decode** (deserialize) JSON easily.\n"
   ]
  },
  {
   "cell_type": "markdown",
   "id": "7a4d04c2-1c20-410f-8ee9-ea160a464809",
   "metadata": {},
   "source": [
    "### Encoding Python Objects to JSON\n",
    "\n",
    "- Use `json.dumps()` to convert a Python object into a JSON string.\n"
   ]
  },
  {
   "cell_type": "code",
   "execution_count": 11,
   "id": "f05f929a-758e-41d1-a0e0-7047acc310ad",
   "metadata": {},
   "outputs": [
    {
     "name": "stdout",
     "output_type": "stream",
     "text": [
      "{\"name\": \"John\", \"age\": 30, \"city\": \"New York\"}\n"
     ]
    }
   ],
   "source": [
    "import json\n",
    "\n",
    "data = {\"name\": \"John\", \"age\": 30, \"city\": \"New York\"}\n",
    "json_string = json.dumps(data)\n",
    "print(json_string)"
   ]
  },
  {
   "cell_type": "markdown",
   "id": "e5cb97f9-9213-495f-adf2-1327f075f6d1",
   "metadata": {},
   "source": [
    "### Decoding JSON Strings to Python Objects\n",
    "\n",
    "- Use `json.loads()` to parse a JSON string back into a Python dictionary.\n"
   ]
  },
  {
   "cell_type": "code",
   "execution_count": 12,
   "id": "58ddb497-7fe1-48ed-bfb0-cc43d2e38ee9",
   "metadata": {},
   "outputs": [
    {
     "name": "stdout",
     "output_type": "stream",
     "text": [
      "{'name': 'John', 'age': 30, 'city': 'New York'}\n",
      "<class 'dict'>\n"
     ]
    }
   ],
   "source": [
    "json_data = '{\"name\": \"John\", \"age\": 30, \"city\": \"New York\"}'\n",
    "parsed_data = json.loads(json_data)\n",
    "print(parsed_data)\n",
    "print(type(parsed_data))"
   ]
  },
  {
   "cell_type": "markdown",
   "id": "d5f846ac-12bd-470d-bbe9-e838dab679a3",
   "metadata": {},
   "source": [
    "### Working with JSON Files\n",
    "\n",
    "- Use `json.dump()` to write Python objects directly to a file.\n",
    "- Use `json.load()` to read JSON data from a file and convert it into Python objects.\n"
   ]
  },
  {
   "cell_type": "code",
   "execution_count": 13,
   "id": "92c16aee-8abe-4c70-8412-3c289891ac90",
   "metadata": {},
   "outputs": [
    {
     "name": "stdout",
     "output_type": "stream",
     "text": [
      "{'name': 'John', 'age': 30, 'city': 'New York'}\n"
     ]
    }
   ],
   "source": [
    "# Writing JSON to a file\n",
    "with open('data.json', 'w') as file:\n",
    "    json.dump(data, file)\n",
    "\n",
    "# Reading JSON from a file\n",
    "with open('data.json', 'r') as file:\n",
    "    loaded_data = json.load(file)\n",
    "\n",
    "print(loaded_data)"
   ]
  },
  {
   "cell_type": "markdown",
   "id": "4a9db99a-6e39-448b-8fc2-e556192f3661",
   "metadata": {},
   "source": [
    "### Handling Exceptions\n",
    "\n",
    "- Always handle exceptions like `json.JSONDecodeError` to make your code robust, especially when dealing with untrusted data sources.\n"
   ]
  },
  {
   "cell_type": "code",
   "execution_count": 14,
   "id": "6f38e5a0-27c5-41d7-b36e-26d5d909e6af",
   "metadata": {},
   "outputs": [
    {
     "name": "stdout",
     "output_type": "stream",
     "text": [
      "Failed to decode JSON: Expecting property name enclosed in double quotes: line 1 column 28 (char 27)\n"
     ]
    }
   ],
   "source": [
    "invalid_json = '{\"name\": \"John\", \"age\": 30,'  # Missing closing }\n",
    "\n",
    "try:\n",
    "    data = json.loads(invalid_json)\n",
    "except json.JSONDecodeError as e:\n",
    "    print(\"Failed to decode JSON:\", e)"
   ]
  },
  {
   "cell_type": "markdown",
   "id": "a3c4c6d9-0e27-411b-bc17-351196f99146",
   "metadata": {},
   "source": [
    "# Chapter 3: Generators and Iterators in Python\n"
   ]
  },
  {
   "cell_type": "markdown",
   "id": "99680a1b-047c-43d7-9343-9fef91b0e9b6",
   "metadata": {},
   "source": [
    "### What are Generators?\n",
    "\n",
    "- **Generators** are a simple way to create **iterators** using functions that **yield** values one at a time.\n",
    "- Instead of returning a value and ending the function, `yield` pauses the function and resumes from the same point on the next call.\n"
   ]
  },
  {
   "cell_type": "markdown",
   "id": "8ad26885-e20c-4089-a7e8-fa797f36c14d",
   "metadata": {},
   "source": [
    "### What are Iterators?\n",
    "\n",
    "- **Iterators** are objects that implement two methods:\n",
    "  - `__iter__()` → returns the iterator object itself.\n",
    "  - `__next__()` → returns the next item in the sequence.\n",
    "- Iterators allow Python to iterate over collections like lists, tuples, and sets in a `for` loop.\n"
   ]
  },
  {
   "cell_type": "markdown",
   "id": "0092ffc2-55d1-4c93-9a80-b2b6cf60dac9",
   "metadata": {},
   "source": [
    "### Creating a Generator using `yield`\n"
   ]
  },
  {
   "cell_type": "code",
   "execution_count": 16,
   "id": "23fd7996-4e38-426d-af52-cf6249fcfeea",
   "metadata": {},
   "outputs": [
    {
     "name": "stdout",
     "output_type": "stream",
     "text": [
      "1\n",
      "2\n",
      "3\n",
      "4\n",
      "5\n"
     ]
    }
   ],
   "source": [
    "def count_up_to(max):\n",
    "    count = 1\n",
    "    while count <= max:\n",
    "        yield count\n",
    "        count += 1\n",
    "\n",
    "# Using the generator\n",
    "counter = count_up_to(5)\n",
    "\n",
    "for num in counter:\n",
    "    print(num)"
   ]
  },
  {
   "cell_type": "markdown",
   "id": "cac34bd2-de57-422b-8726-b065201c6610",
   "metadata": {},
   "source": [
    "### Memory Efficiency of Generators\n",
    "\n",
    "- Generators **yield** items one by one, so they **only hold one item in memory** at a time.\n",
    "- Lists, on the other hand, **store all elements at once** in memory.\n"
   ]
  },
  {
   "cell_type": "markdown",
   "id": "5ce84fd8-b2e1-4bf0-81b6-9b0949a0be20",
   "metadata": {},
   "source": [
    "### Example: Generator vs Normal Function"
   ]
  },
  {
   "cell_type": "code",
   "execution_count": 17,
   "id": "f127fa7b-456a-4ae0-ad6d-07895f719113",
   "metadata": {},
   "outputs": [
    {
     "name": "stdout",
     "output_type": "stream",
     "text": [
      "[0, 1, 2, 3, 4]\n",
      "0\n",
      "1\n",
      "2\n",
      "3\n",
      "4\n"
     ]
    }
   ],
   "source": [
    "# Normal function that returns a list\n",
    "def get_numbers_list():\n",
    "    numbers = []\n",
    "    for i in range(5):\n",
    "        numbers.append(i)\n",
    "    return numbers\n",
    "\n",
    "# Generator function\n",
    "def get_numbers_gen():\n",
    "    for i in range(5):\n",
    "        yield i\n",
    "\n",
    "# Using them\n",
    "print(get_numbers_list())\n",
    "\n",
    "for num in get_numbers_gen():\n",
    "    print(num)"
   ]
  },
  {
   "cell_type": "markdown",
   "id": "c2b795e0-7e25-44e2-8853-6a5a78754f64",
   "metadata": {},
   "source": [
    "### Manual Iteration using `next()`\n",
    "\n",
    "- You can manually fetch items from an iterator using `next()`.\n",
    "- After the items are exhausted, calling `next()` raises `StopIteration`.\n"
   ]
  },
  {
   "cell_type": "code",
   "execution_count": 18,
   "id": "82ee316b-9507-48e8-83c3-7daab36589bc",
   "metadata": {},
   "outputs": [
    {
     "name": "stdout",
     "output_type": "stream",
     "text": [
      "0\n",
      "1\n",
      "2\n"
     ]
    }
   ],
   "source": [
    "gen = get_numbers_gen()\n",
    "\n",
    "print(next(gen))\n",
    "print(next(gen))\n",
    "print(next(gen))\n",
    "# and so on..."
   ]
  },
  {
   "cell_type": "markdown",
   "id": "973c4ed5-b46b-46c0-901c-b99e693308a5",
   "metadata": {},
   "source": [
    "### Where Generators and Iterators are Useful\n",
    "\n",
    "- Handling **large datasets** that cannot fit into memory.\n",
    "- **Infinite sequences**, like an endless stream of data.\n",
    "- Building **data pipelines** where each step processes items lazily.\n"
   ]
  },
  {
   "cell_type": "markdown",
   "id": "bb0c24ca-8abe-4f0d-b7e1-32ffcdf46cd0",
   "metadata": {},
   "source": [
    "# Chapter 4: Decorators in Python\n"
   ]
  },
  {
   "cell_type": "markdown",
   "id": "8014f0b9-7bc7-49be-a099-8a33837b02cf",
   "metadata": {},
   "source": [
    "###  What are Decorators?\n",
    "\n",
    "- **Decorators** are functions that modify the behavior of another function, method, or class.\n",
    "- They allow for extending functionality without permanently modifying the original function.\n",
    "- Decorators work by wrapping another function and can modify its behavior before and/or after it runs."
   ]
  },
  {
   "cell_type": "markdown",
   "id": "38e607c9-bedf-4700-a7b1-a97da23e5fb9",
   "metadata": {},
   "source": [
    "###  Syntax for Using a Decorator\n",
    "\n",
    "- Decorators are applied using the `@decorator_name` notation just **above** the function definition.\n",
    "- This is a cleaner alternative to manually calling the decorator.\n"
   ]
  },
  {
   "cell_type": "markdown",
   "id": "7ec756f6-7e53-4a46-a47d-1c5b1379dabc",
   "metadata": {},
   "source": [
    "### Basic Example of a Decorator\n"
   ]
  },
  {
   "cell_type": "code",
   "execution_count": 19,
   "id": "e04aea05-a8c9-453f-a91e-ea2e4742dfb0",
   "metadata": {},
   "outputs": [
    {
     "name": "stdout",
     "output_type": "stream",
     "text": [
      "Something is happening before the function is called.\n",
      "Hello!\n",
      "Something is happening after the function is called.\n"
     ]
    }
   ],
   "source": [
    "def my_decorator(func):\n",
    "    def wrapper():\n",
    "        print(\"Something is happening before the function is called.\")\n",
    "        func()\n",
    "        print(\"Something is happening after the function is called.\")\n",
    "    return wrapper\n",
    "\n",
    "@my_decorator\n",
    "def say_hello():\n",
    "    print(\"Hello!\")\n",
    "\n",
    "say_hello()"
   ]
  },
  {
   "cell_type": "markdown",
   "id": "faa74bdf-0fbe-4ce4-bba3-e90caa65eaab",
   "metadata": {},
   "source": [
    "### Decorators with Arguments\n",
    "\n",
    "- Decorators can also work with functions that accept arguments.\n"
   ]
  },
  {
   "cell_type": "code",
   "execution_count": 21,
   "id": "4712de13-d36f-4d56-8020-77d7ac68def3",
   "metadata": {},
   "outputs": [
    {
     "name": "stdout",
     "output_type": "stream",
     "text": [
      "Before the function call.\n",
      "Hello, Alice!\n",
      "After the function call.\n"
     ]
    }
   ],
   "source": [
    "def decorator_with_args(func):\n",
    "    def wrapper(*args, **kwargs):\n",
    "        print(\"Before the function call.\")\n",
    "        func(*args, **kwargs)\n",
    "        print(\"After the function call.\")\n",
    "    return wrapper\n",
    "\n",
    "@decorator_with_args\n",
    "def greet(name):\n",
    "    print(f\"Hello, {name}!\")\n",
    "\n",
    "greet(\"Alice\")"
   ]
  },
  {
   "cell_type": "markdown",
   "id": "527e32d4-526c-4997-be51-5258231c04de",
   "metadata": {},
   "source": [
    "### Common Use Cases for Decorators\n",
    "\n",
    "- **Logging**: Tracking function calls.\n",
    "- **Access Control**: Checking user permissions.\n",
    "- **Memoization**: Caching the results of expensive function calls.\n",
    "- **Timing Functions**: Measuring execution time of functions.\n"
   ]
  },
  {
   "cell_type": "markdown",
   "id": "26edbb01-7502-4596-a126-78d723f856f9",
   "metadata": {},
   "source": [
    "### Example: Timing a Function Using a Decorator"
   ]
  },
  {
   "cell_type": "code",
   "execution_count": 23,
   "id": "22bcffde-2f2d-49e5-811a-fd477a6883e8",
   "metadata": {},
   "outputs": [
    {
     "name": "stdout",
     "output_type": "stream",
     "text": [
      "Finished sleeping!\n",
      "Function 'slow_function' took 2.0056 seconds\n"
     ]
    }
   ],
   "source": [
    "import time\n",
    "\n",
    "def timer_decorator(func):\n",
    "    def wrapper(*args, **kwargs):\n",
    "        start_time = time.time()\n",
    "        func(*args, **kwargs)\n",
    "        end_time = time.time()\n",
    "        print(f\"Function '{func.__name__}' took {end_time - start_time:.4f} seconds\")\n",
    "    return wrapper\n",
    "\n",
    "@timer_decorator\n",
    "def slow_function():\n",
    "    time.sleep(2)\n",
    "    print(\"Finished sleeping!\")\n",
    "\n",
    "slow_function()"
   ]
  },
  {
   "cell_type": "markdown",
   "id": "407f15c6-56a4-47a6-a9fd-63ad98a959ba",
   "metadata": {},
   "source": [
    "# Chapter 5: APIs in Python\n",
    "### 🔹 1. What is an API?\n",
    "\n",
    "- **API** stands for **Application Programming Interface**.\n",
    "- It is a way for different software programs to **communicate** with each other.\n",
    "- APIs expose functionalities so that developers can interact with them without needing to know internal details.\n",
    "\n",
    "### 🔹 2. Calling APIs in Python\n",
    "\n",
    "- **requests** is a popular Python library used to make API calls easily.\n",
    "- It supports HTTP methods like `GET`, `POST`, `PUT`, and `DELETE`.\n",
    "\n"
   ]
  },
  {
   "cell_type": "code",
   "execution_count": 32,
   "id": "69c363e8-9fa8-475c-bdcf-2d28ecf29d4f",
   "metadata": {},
   "outputs": [
    {
     "name": "stdout",
     "output_type": "stream",
     "text": [
      "Status Code: 200\n",
      "Response JSON: {'current_user_url': 'https://api.github.com/user', 'current_user_authorizations_html_url': 'https://github.com/settings/connections/applications{/client_id}', 'authorizations_url': 'https://api.github.com/authorizations', 'code_search_url': 'https://api.github.com/search/code?q={query}{&page,per_page,sort,order}', 'commit_search_url': 'https://api.github.com/search/commits?q={query}{&page,per_page,sort,order}', 'emails_url': 'https://api.github.com/user/emails', 'emojis_url': 'https://api.github.com/emojis', 'events_url': 'https://api.github.com/events', 'feeds_url': 'https://api.github.com/feeds', 'followers_url': 'https://api.github.com/user/followers', 'following_url': 'https://api.github.com/user/following{/target}', 'gists_url': 'https://api.github.com/gists{/gist_id}', 'hub_url': 'https://api.github.com/hub', 'issue_search_url': 'https://api.github.com/search/issues?q={query}{&page,per_page,sort,order}', 'issues_url': 'https://api.github.com/issues', 'keys_url': 'https://api.github.com/user/keys', 'label_search_url': 'https://api.github.com/search/labels?q={query}&repository_id={repository_id}{&page,per_page}', 'notifications_url': 'https://api.github.com/notifications', 'organization_url': 'https://api.github.com/orgs/{org}', 'organization_repositories_url': 'https://api.github.com/orgs/{org}/repos{?type,page,per_page,sort}', 'organization_teams_url': 'https://api.github.com/orgs/{org}/teams', 'public_gists_url': 'https://api.github.com/gists/public', 'rate_limit_url': 'https://api.github.com/rate_limit', 'repository_url': 'https://api.github.com/repos/{owner}/{repo}', 'repository_search_url': 'https://api.github.com/search/repositories?q={query}{&page,per_page,sort,order}', 'current_user_repositories_url': 'https://api.github.com/user/repos{?type,page,per_page,sort}', 'starred_url': 'https://api.github.com/user/starred{/owner}{/repo}', 'starred_gists_url': 'https://api.github.com/gists/starred', 'topic_search_url': 'https://api.github.com/search/topics?q={query}{&page,per_page}', 'user_url': 'https://api.github.com/users/{user}', 'user_organizations_url': 'https://api.github.com/user/orgs', 'user_repositories_url': 'https://api.github.com/users/{user}/repos{?type,page,per_page,sort}', 'user_search_url': 'https://api.github.com/search/users?q={query}{&page,per_page,sort,order}'}\n"
     ]
    }
   ],
   "source": [
    "import requests\n",
    "\n",
    "# Make a GET request to a public API\n",
    "response = requests.get(\"https://api.github.com\")\n",
    "\n",
    "print(\"Status Code:\", response.status_code)\n",
    "print(\"Response JSON:\", response.json())\n"
   ]
  },
  {
   "cell_type": "markdown",
   "id": "d2d20813-5cb5-4f03-a936-88caa1e6abfb",
   "metadata": {},
   "source": [
    "### 🔹 4. Common HTTP Methods\n",
    "\n",
    "- **GET**: Retrieve data from a server.\n",
    "- **POST**: Send data to a server to create a resource.\n",
    "- **PUT**: Update an existing resource on the server.\n",
    "- **DELETE**: Remove a resource from the server.\n"
   ]
  },
  {
   "cell_type": "markdown",
   "id": "e8cae24e-3a39-4e6f-8d15-ec9d329addb4",
   "metadata": {},
   "source": [
    "### 🔹 5. Building APIs using FastAPI\n",
    "\n",
    "- **FastAPI** is a modern, fast (high-performance) web framework for building APIs with Python.\n",
    "- It is easy to use and based on Python type hints.\n",
    "- It automatically generates documentation (Swagger UI) for your APIs."
   ]
  },
  {
   "cell_type": "markdown",
   "id": "925b7ffa-d581-415b-b3a5-6b20ee0bb304",
   "metadata": {},
   "source": [
    "### 🔹 6. Example: Creating a simple API using FastAPI"
   ]
  },
  {
   "cell_type": "code",
   "execution_count": 27,
   "id": "dee3bc2d-5826-41af-8f25-76d53d55f0ea",
   "metadata": {},
   "outputs": [],
   "source": [
    "# Save this code in a file like main.py and run with: uvicorn main:app --reload\n",
    "\n",
    "from fastapi import FastAPI\n",
    "\n",
    "app = FastAPI()\n",
    "\n",
    "@app.get(\"/\")\n",
    "def read_root():\n",
    "    return {\"message\": \"Hello, World!\"}\n",
    "\n",
    "@app.get(\"/items/{item_id}\")\n",
    "def read_item(item_id: int):\n",
    "    return {\"item_id\": item_id}\n"
   ]
  },
  {
   "cell_type": "markdown",
   "id": "7a68c6e3-72e1-468f-94b8-25bfe790c0f0",
   "metadata": {},
   "source": [
    "# Chapter 6: The `requests` Library in Python\n",
    "### 🔹 1. What is the `requests` Library?\n",
    "\n",
    "- The `requests` library in Python simplifies making **HTTP requests** to APIs.\n",
    "- It supports methods like **GET**, **POST**, **PUT**, **DELETE**, and more.\n",
    "- It is easy to use and great for working with **REST APIs**.\n",
    "\n",
    "### 🔹 2. Making API Calls using `requests`\n",
    "\n",
    "- Use `requests.get()` to **fetch data** from a server.\n",
    "- Use `requests.post()` to **send data** to a server.\n",
    "- Pass parameters or data using function arguments.\n",
    "\n",
    "### 🔹 3. Handling API Responses\n",
    "\n",
    "- Check `response.status_code` to verify if the request was successful.\n",
    "- Use `response.json()` to parse the JSON data returned by the API.\n",
    "- Always use **exception handling** to manage possible request failures.\n",
    "\n",
    "### 🔹 4. Example: Fetching Data from a Public API"
   ]
  },
  {
   "cell_type": "code",
   "execution_count": 33,
   "id": "959ca6e6-785d-4c1b-a003-84de5dc170d3",
   "metadata": {},
   "outputs": [
    {
     "name": "stdout",
     "output_type": "stream",
     "text": [
      "Response Data: {'count': 605, 'name': 'ankush', 'age': 40}\n"
     ]
    }
   ],
   "source": [
    "import requests\n",
    "\n",
    "try:\n",
    "    # Making a GET request to a public API\n",
    "    response = requests.get(\"https://api.agify.io?name=ankush\")\n",
    "    \n",
    "    # Check if the request was successful\n",
    "    if response.status_code == 200:\n",
    "        data = response.json()\n",
    "        print(\"Response Data:\", data)\n",
    "    else:\n",
    "        print(f\"Failed to fetch data. Status code: {response.status_code}\")\n",
    "        \n",
    "except requests.exceptions.RequestException as e:\n",
    "    print(\"An error occurred:\", e)\n"
   ]
  },
  {
   "cell_type": "markdown",
   "id": "4fbf90ed-8b64-4d72-97de-950c8e335a05",
   "metadata": {},
   "source": [
    "### 🔹 5. Notes\n",
    "\n",
    "- Always validate `response.status_code` before processing the response.\n",
    "- Wrap your API calls in `try-except` blocks to catch network errors or invalid responses.\n",
    "- Use `.json()` only if the API returns JSON data; otherwise, use `.text` or `.content`.\n"
   ]
  },
  {
   "cell_type": "code",
   "execution_count": null,
   "id": "fb099c21-80de-4e03-8e22-c6932dcfe437",
   "metadata": {},
   "outputs": [],
   "source": []
  }
 ],
 "metadata": {
  "kernelspec": {
   "display_name": "Python 3 (ipykernel)",
   "language": "python",
   "name": "python3"
  },
  "language_info": {
   "codemirror_mode": {
    "name": "ipython",
    "version": 3
   },
   "file_extension": ".py",
   "mimetype": "text/x-python",
   "name": "python",
   "nbconvert_exporter": "python",
   "pygments_lexer": "ipython3",
   "version": "3.13.2"
  }
 },
 "nbformat": 4,
 "nbformat_minor": 5
}
