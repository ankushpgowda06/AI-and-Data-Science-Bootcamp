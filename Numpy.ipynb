{
 "cells": [
  {
   "cell_type": "markdown",
   "id": "f52ff44b-9024-42b0-b58a-e073f41bd8d3",
   "metadata": {},
   "source": [
    "# Chapter 1: NumPy Basics\n",
    "\n",
    "## What is NumPy?\n",
    "\n",
    "NumPy (Numerical Python) is a powerful Python library used for:\n",
    "\n",
    "- Scientific computing\n",
    "- Data analysis\n",
    "- Machine learning\n",
    "\n",
    "It provides a high-performance multidimensional array object called `ndarray`.\n"
   ]
  },
  {
   "cell_type": "markdown",
   "id": "b4769d13-5fa8-4210-9bee-2f0cd9d351d0",
   "metadata": {},
   "source": [
    "## Why NumPy over Python List?\n",
    "\n",
    "| Feature               | Python List         | NumPy Array      |\n",
    "|-----------------------|---------------------|------------------|\n",
    "| Performance           | Slower              | Much faster      |\n",
    "| Memory Efficiency     | Higher memory usage | Low memory usage |\n",
    "| Element-wise Ops      | Not supported       | Supported        |\n"
   ]
  },
  {
   "cell_type": "code",
   "execution_count": 1,
   "id": "7205cfb6-9d37-4c7d-ae59-6a6c052348de",
   "metadata": {},
   "outputs": [],
   "source": [
    "# Importing NumPy\n",
    "import numpy as np"
   ]
  },
  {
   "cell_type": "code",
   "execution_count": 2,
   "id": "9884b4c6-828b-47e6-896b-59b2ba621ae7",
   "metadata": {},
   "outputs": [
    {
     "name": "stdout",
     "output_type": "stream",
     "text": [
      "List + List: [1, 2, 3, 4, 5, 6]\n"
     ]
    }
   ],
   "source": [
    "# Python List Example\n",
    "list1 = [1, 2, 3]\n",
    "list2 = [4, 5, 6]\n",
    "\n",
    "# This will concatenate lists, not add them element-wise\n",
    "print(\"List + List:\", list1 + list2)"
   ]
  },
  {
   "cell_type": "code",
   "execution_count": 3,
   "id": "89147549-6f91-4900-adb3-5fafd34178c0",
   "metadata": {},
   "outputs": [
    {
     "name": "stdout",
     "output_type": "stream",
     "text": [
      "Array + Array: [5 7 9]\n",
      "Array - Array: [3 3 3]\n"
     ]
    }
   ],
   "source": [
    "# NumPy Array Example\n",
    "arr1 = np.array([1, 2, 3])\n",
    "arr2 = np.array([4, 5, 6])\n",
    "\n",
    "# This performs element-wise addition\n",
    "print(\"Array + Array:\", arr1 + arr2)\n",
    "\n",
    "# Element-wise subtraction\n",
    "print(\"Array - Array:\", arr2 - arr1)"
   ]
  },
  {
   "cell_type": "code",
   "execution_count": 4,
   "id": "f72ef545-8891-4dec-86c5-ff1f6d69dcf3",
   "metadata": {},
   "outputs": [
    {
     "name": "stdout",
     "output_type": "stream",
     "text": [
      "Element-wise addition for list using zip: [5, 7, 9]\n"
     ]
    }
   ],
   "source": [
    "# Simulating element-wise addition using zip\n",
    "added_list = [a + b for a, b in zip(list1, list2)]\n",
    "print(\"Element-wise addition for list using zip:\", added_list)"
   ]
  },
  {
   "cell_type": "markdown",
   "id": "5b9daf26-7473-4ccb-8285-d4ca32397bcd",
   "metadata": {},
   "source": [
    "# Chapter 2: Important NumPy Array Operations and Functions"
   ]
  },
  {
   "cell_type": "markdown",
   "id": "d862ad3d-842c-4cbd-952f-c4b4871251eb",
   "metadata": {},
   "source": [
    "## 1. Array Creation"
   ]
  },
  {
   "cell_type": "code",
   "execution_count": 5,
   "id": "7170fbff-78e4-4ff9-9c0a-2991eda5d20c",
   "metadata": {},
   "outputs": [
    {
     "name": "stdout",
     "output_type": "stream",
     "text": [
      "Basic array from list: [1 2 3]\n",
      "\n",
      "3x4 zeros array:\n",
      " [[0. 0. 0. 0.]\n",
      " [0. 0. 0. 0.]\n",
      " [0. 0. 0. 0.]]\n",
      "\n",
      "2x3 ones array:\n",
      " [[1. 1. 1.]\n",
      " [1. 1. 1.]]\n",
      "\n",
      "Empty 2x2 array (contains garbage values):\n",
      " [[0. 0.]\n",
      " [0. 0.]]\n",
      "\n",
      "3x3 identity matrix:\n",
      " [[1. 0. 0.]\n",
      " [0. 1. 0.]\n",
      " [0. 0. 1.]]\n",
      "\n",
      "Arange (0-10 step 2): [0 2 4 6 8]\n",
      "\n",
      "Linspace (5 values between 0-1): [0.   0.25 0.5  0.75 1.  ]\n",
      "\n",
      "Random 3x3 (uniform distribution):\n",
      " [[0.25784844 0.88154582 0.23231772]\n",
      " [0.6040379  0.92266797 0.51201571]\n",
      " [0.42194404 0.76145974 0.24829469]]\n",
      "\n",
      "Random 3x3 (standard normal):\n",
      " [[-1.93476143  0.03722961  0.26269227]\n",
      " [ 0.84428109 -0.60267328 -1.18544542]\n",
      " [-0.49864061  1.37767263 -0.6244885 ]]\n"
     ]
    }
   ],
   "source": [
    "print(\"Basic array from list:\", np.array([1, 2, 3]))\n",
    "print(\"\\n3x4 zeros array:\\n\", np.zeros((3, 4)))\n",
    "print(\"\\n2x3 ones array:\\n\", np.ones((2, 3)))\n",
    "print(\"\\nEmpty 2x2 array (contains garbage values):\\n\", np.empty((2, 2)))\n",
    "print(\"\\n3x3 identity matrix:\\n\", np.eye(3))\n",
    "\n",
    "# Sequences and ranges\n",
    "print(\"\\nArange (0-10 step 2):\", np.arange(0, 10, 2))\n",
    "print(\"\\nLinspace (5 values between 0-1):\", np.linspace(0, 1, 5))\n",
    "\n",
    "# Random arrays\n",
    "print(\"\\nRandom 3x3 (uniform distribution):\\n\", np.random.rand(3, 3))\n",
    "print(\"\\nRandom 3x3 (standard normal):\\n\", np.random.randn(3, 3))"
   ]
  },
  {
   "cell_type": "markdown",
   "id": "295aeb27-4cb6-4079-8484-12504fad1b16",
   "metadata": {},
   "source": [
    "## 2. Array Attributes"
   ]
  },
  {
   "cell_type": "code",
   "execution_count": 6,
   "id": "8e667300-c79a-49e4-86e2-f89720250781",
   "metadata": {},
   "outputs": [
    {
     "name": "stdout",
     "output_type": "stream",
     "text": [
      "Shape: (2, 3)\n",
      "Dimensions: 2\n",
      "Size: 6\n",
      "Data type: int64\n",
      "Transpose:\n",
      " [[1 4]\n",
      " [2 5]\n",
      " [3 6]]\n"
     ]
    }
   ],
   "source": [
    "arr = np.array([[1, 2, 3], [4, 5, 6]])\n",
    "\n",
    "print(\"Shape:\", arr.shape)      # (2, 3)\n",
    "print(\"Dimensions:\", arr.ndim)  # 2\n",
    "print(\"Size:\", arr.size)        # 6\n",
    "print(\"Data type:\", arr.dtype)  # int64 (or float64 if decimals)\n",
    "print(\"Transpose:\\n\", arr.T)    # [[1, 4], [2, 5], [3, 6]]"
   ]
  },
  {
   "cell_type": "markdown",
   "id": "6d653ba9-ab43-4910-b155-c44c803c29a6",
   "metadata": {},
   "source": [
    "## 3. Array Manipulation"
   ]
  },
  {
   "cell_type": "code",
   "execution_count": 7,
   "id": "d489cbef-9ee2-4b5b-9ccd-29267b92aba3",
   "metadata": {},
   "outputs": [
    {
     "name": "stdout",
     "output_type": "stream",
     "text": [
      "[0 1 2 3 4 5]\n",
      "\n",
      "Reshaped 2x3 array:\n",
      " [[0 1 2]\n",
      " [3 4 5]]\n",
      "Flattened: [0 1 2 3 4 5]\n",
      "Raveled (no copy): [0 1 2 3 4 5]\n"
     ]
    }
   ],
   "source": [
    "# Reshaping\n",
    "arr = np.arange(6)\n",
    "print(arr)\n",
    "arr = arr.reshape(2, 3)\n",
    "print(\"\\nReshaped 2x3 array:\\n\", arr)\n",
    "print(\"Flattened:\", arr.flatten())\n",
    "print(\"Raveled (no copy):\", arr.ravel())"
   ]
  },
  {
   "cell_type": "code",
   "execution_count": 8,
   "id": "11d160dd-6415-46a1-b68e-b88a162b508b",
   "metadata": {},
   "outputs": [
    {
     "name": "stdout",
     "output_type": "stream",
     "text": [
      "\n",
      "Concatenated: [1 2 3 4]\n",
      "Vertically stacked:\n",
      " [[1 2]\n",
      " [3 4]]\n"
     ]
    }
   ],
   "source": [
    "# Joining/Splitting\n",
    "a, b = np.array([1, 2]), np.array([3, 4])\n",
    "print(\"\\nConcatenated:\", np.concatenate([a, b]))\n",
    "print(\"Vertically stacked:\\n\", np.vstack([a, b]))"
   ]
  },
  {
   "cell_type": "markdown",
   "id": "2d132136-735b-4ef2-bc4b-83b2c2edf33a",
   "metadata": {},
   "source": [
    "## 4. Indexing & Slicing"
   ]
  },
  {
   "cell_type": "code",
   "execution_count": 9,
   "id": "4370a4ee-3ca0-438f-8d64-84f8b9ae27d7",
   "metadata": {},
   "outputs": [
    {
     "name": "stdout",
     "output_type": "stream",
     "text": [
      "Original array:\n",
      " [[0 1 2]\n",
      " [3 4 5]]\n",
      "\n",
      "Element at [1,2]: 5\n",
      "Column slicing:\n",
      " [[1 2]\n",
      " [4 5]]\n",
      "Boolean indexing (>3): [4 5]\n",
      "Fancy indexing: [1 5]\n"
     ]
    }
   ],
   "source": [
    "print(\"Original array:\\n\", arr)\n",
    "print(\"\\nElement at [1,2]:\", arr[1, 2])\n",
    "print(\"Column slicing:\\n\", arr[:, 1:3])\n",
    "print(\"Boolean indexing (>3):\", arr[arr > 3])\n",
    "print(\"Fancy indexing:\", arr[[0, 1], [1, 2]])  # (0,1) and (1,2)"
   ]
  },
  {
   "cell_type": "markdown",
   "id": "427242e9-5635-493b-8004-5b3af2680028",
   "metadata": {},
   "source": [
    "## 5. Mathematical Operations"
   ]
  },
  {
   "cell_type": "code",
   "execution_count": 10,
   "id": "45198747-6458-4fe4-bac8-db66db703744",
   "metadata": {},
   "outputs": [
    {
     "name": "stdout",
     "output_type": "stream",
     "text": [
      "Element-wise addition: [5 7 9]\n",
      "Element-wise sqrt: [1.         1.41421356 1.73205081]\n",
      "\n",
      "2D array:\n",
      " [[1 2]\n",
      " [3 4]]\n",
      "Global sum: 10\n",
      "Column-wise mean: [2. 3.]\n",
      "Row-wise max: [2 4]\n",
      "Power: [  1  32 729]\n"
     ]
    }
   ],
   "source": [
    "a, b = np.array([1, 2, 3]), np.array([4, 5, 6])\n",
    "\n",
    "print(\"Element-wise addition:\", a + b)\n",
    "print(\"Element-wise sqrt:\", np.sqrt(a))\n",
    "\n",
    "# Aggregation\n",
    "arr = np.array([[1, 2], [3, 4]])\n",
    "print(\"\\n2D array:\\n\", arr)\n",
    "print(\"Global sum:\", np.sum(arr))\n",
    "print(\"Column-wise mean:\", np.mean(arr, axis=0))\n",
    "print(\"Row-wise max:\", arr.max(axis=1))\n",
    "print(\"Power:\", np.power(a,b))"
   ]
  },
  {
   "cell_type": "markdown",
   "id": "fb140771-c942-4d83-8e3b-17a03ac607df",
   "metadata": {},
   "source": [
    "## 6. Advanced Operations"
   ]
  },
  {
   "cell_type": "code",
   "execution_count": 11,
   "id": "4a1ed348-6f27-4126-bc55-5cfb1e61b579",
   "metadata": {},
   "outputs": [
    {
     "name": "stdout",
     "output_type": "stream",
     "text": [
      "Unique values: [1 2 3]\n",
      "\n",
      "Where (indices where >2): (array([2, 3]),)\n",
      "\n",
      "Clipped values (2-3): [2 2 3 3]\n"
     ]
    }
   ],
   "source": [
    "print(\"Unique values:\", np.unique([1, 2, 2, 3, 1]))\n",
    "print(\"\\nWhere (indices where >2):\", np.where(np.array([1, 2, 3, 4]) > 2)) # gives indexes\n",
    "print(\"\\nClipped values (2-3):\", np.clip([1, 2, 3, 4], 2, 3)) #In this case: All values < 1 become 1 All values > 2 become 2"
   ]
  },
  {
   "cell_type": "markdown",
   "id": "4a14ec48-8b1d-40e3-9d31-3c9aeabb9aef",
   "metadata": {},
   "source": [
    "## 7. Sorting Operations"
   ]
  },
  {
   "cell_type": "code",
   "execution_count": 12,
   "id": "4a56b074-5aed-427b-bc24-620038343ea8",
   "metadata": {},
   "outputs": [
    {
     "name": "stdout",
     "output_type": "stream",
     "text": [
      "Original array: [3 1 4 2 5]\n",
      "\n",
      "Sorted array (returns new array): [1 2 3 4 5]\n",
      "Original array remains unchanged: [3 1 4 2 5]\n",
      "\n",
      "After in-place sort: [1 2 3 4 5]\n",
      "\n",
      "Indices of sorted elements: [1 3 0 2 4]\n"
     ]
    }
   ],
   "source": [
    "arr = np.array([3, 1, 4, 2, 5])\n",
    "print(\"Original array:\", arr)\n",
    "\n",
    "# Basic sorting\n",
    "print(\"\\nSorted array (returns new array):\", np.sort(arr))\n",
    "print(\"Original array remains unchanged:\", arr)\n",
    "\n",
    "# In-place sorting\n",
    "arr.sort()\n",
    "print(\"\\nAfter in-place sort:\", arr)\n",
    "\n",
    "# Sorting with indices\n",
    "arr = np.array([3, 1, 4, 2, 5])\n",
    "print(\"\\nIndices of sorted elements:\", np.argsort(arr))"
   ]
  },
  {
   "cell_type": "markdown",
   "id": "2803c068-cb87-44c8-b7d8-d7c0802e8d93",
   "metadata": {},
   "source": [
    "## 8. String Operations (for string arrays)"
   ]
  },
  {
   "cell_type": "code",
   "execution_count": 13,
   "id": "4f388cab-2736-4e08-999f-0c215f980225",
   "metadata": {},
   "outputs": [
    {
     "name": "stdout",
     "output_type": "stream",
     "text": [
      "Uppercase: ['APPLE' 'BANANA' 'CHERRY']\n",
      "String length: [5 6 6]\n",
      "Replace 'a' with 'X': ['Xpple' 'bXnXnX' 'cherry']\n"
     ]
    }
   ],
   "source": [
    "arr = np.array(['apple', 'banana', 'cherry'])\n",
    "\n",
    "print(\"Uppercase:\", np.char.upper(arr))\n",
    "print(\"String length:\", np.char.str_len(arr))\n",
    "print(\"Replace 'a' with 'X':\", np.char.replace(arr, 'a', 'X'))"
   ]
  },
  {
   "cell_type": "markdown",
   "id": "387d10a8-8390-46e7-8dea-a5c616577970",
   "metadata": {},
   "source": [
    "## 9. Set Operations"
   ]
  },
  {
   "cell_type": "code",
   "execution_count": 14,
   "id": "0e03d1fc-cf07-4127-8ae9-676cb9988b57",
   "metadata": {},
   "outputs": [
    {
     "name": "stdout",
     "output_type": "stream",
     "text": [
      "Unique values: [1 2 3]\n",
      "Intersection: [3 4]\n",
      "Union: [1 2 3 4 5 6]\n",
      "Set difference (a - b): [1 2]\n"
     ]
    }
   ],
   "source": [
    "a = np.array([1, 2, 3, 4])\n",
    "b = np.array([3, 4, 5, 6])\n",
    "\n",
    "print(\"Unique values:\", np.unique([1, 2, 2, 3]))\n",
    "print(\"Intersection:\", np.intersect1d(a, b))\n",
    "print(\"Union:\", np.union1d(a, b))\n",
    "print(\"Set difference (a - b):\", np.setdiff1d(a, b))"
   ]
  },
  {
   "cell_type": "markdown",
   "id": "ca97499b-c3fe-4363-a765-309a520e7315",
   "metadata": {},
   "source": [
    "## 10. Nan (Missing Data) Handling"
   ]
  },
  {
   "cell_type": "code",
   "execution_count": 15,
   "id": "7fa498a9-7e90-4d52-b477-0403f6d8209f",
   "metadata": {},
   "outputs": [
    {
     "name": "stdout",
     "output_type": "stream",
     "text": [
      "Array with NaN: [ 1.  2. nan  4.]\n",
      "Is NaN?: [False False  True False]\n",
      "Mean ignoring NaN: 2.3333333333333335\n",
      "Sum ignoring NaN: 7.0\n"
     ]
    }
   ],
   "source": [
    "arr = np.array([1, 2, np.nan, 4])\n",
    "\n",
    "print(\"Array with NaN:\", arr)\n",
    "print(\"Is NaN?:\", np.isnan(arr))\n",
    "print(\"Mean ignoring NaN:\", np.nanmean(arr))\n",
    "print(\"Sum ignoring NaN:\", np.nansum(arr))"
   ]
  },
  {
   "cell_type": "markdown",
   "id": "072b14b9-45c5-4bb7-86f8-4115a00c55e6",
   "metadata": {},
   "source": [
    "## 11. Linear Algebra Function"
   ]
  },
  {
   "cell_type": "code",
   "execution_count": 16,
   "id": "04a5e2b1-4684-4d7f-b333-4b3f74eab611",
   "metadata": {},
   "outputs": [
    {
     "name": "stdout",
     "output_type": "stream",
     "text": [
      "Vector dot product: 32\n",
      "Matrix multiplication:\n",
      " [[19 22]\n",
      " [43 50]]\n"
     ]
    }
   ],
   "source": [
    "import numpy as np\n",
    "\n",
    "# Vectors\n",
    "a = np.array([1, 2, 3])\n",
    "b = np.array([4, 5, 6])\n",
    "dot_product = np.dot(a, b)  # 1*4 + 2*5 + 3*6 = 32\n",
    "print(\"Vector dot product:\", dot_product)\n",
    "\n",
    "# Matrices\n",
    "A = np.array([[1, 2], [3, 4]])\n",
    "B = np.array([[5, 6], [7, 8]])\n",
    "matrix_product = np.dot(A, B)  # [[1*5+2*7, 1*6+2*8], [3*5+4*7, 3*6+4*8]]\n",
    "print(\"Matrix multiplication:\\n\", matrix_product)"
   ]
  },
  {
   "cell_type": "code",
   "execution_count": 17,
   "id": "f0fcdc45-8c26-4f44-b095-c26a8300d1d4",
   "metadata": {},
   "outputs": [
    {
     "name": "stdout",
     "output_type": "stream",
     "text": [
      "Cross product (x × y): [-3  6 -3]\n"
     ]
    }
   ],
   "source": [
    "# 3D vectors\n",
    "x = np.array([1, 2, 3])\n",
    "y = np.array([4, 5, 6])\n",
    "cross_product = np.cross(x, y)  #[x1, x2, x3] × [y1, y2, y3] = [\n",
    "    # x2*y3 - x3*y2,   First component\n",
    "    # x3*y1 - x1*y3,   Second component\n",
    "    # x1*y2 - x2*y1    Third component]\n",
    "print(\"Cross product (x × y):\", cross_product)"
   ]
  },
  {
   "cell_type": "markdown",
   "id": "649800f9-b840-4e33-b867-d01c571909a5",
   "metadata": {},
   "source": [
    "## 12. Extra Functions"
   ]
  },
  {
   "cell_type": "code",
   "execution_count": 18,
   "id": "6e1e2e26-2014-4121-9bfd-f691740b9611",
   "metadata": {},
   "outputs": [
    {
     "data": {
      "text/plain": [
       "[[1, 2], [3, 4]]"
      ]
     },
     "execution_count": 18,
     "metadata": {},
     "output_type": "execute_result"
    }
   ],
   "source": [
    "# convert to list\n",
    "arr = np.array([[1, 2], [3, 4]])\n",
    "arr.tolist()"
   ]
  },
  {
   "cell_type": "code",
   "execution_count": 19,
   "id": "36491bc7-6091-4e1a-9914-c9a1bc1de78e",
   "metadata": {},
   "outputs": [
    {
     "name": "stdout",
     "output_type": "stream",
     "text": [
      "Original dtype: int64\n",
      "\n",
      "As float32: [1. 2. 3. 4.]\n",
      "New dtype: float32\n",
      "\n",
      "As strings: ['1' '2' '3' '4']\n",
      "New dtype: <U21\n",
      "\n",
      "As boolean: [ True  True  True  True]\n"
     ]
    }
   ],
   "source": [
    "# Original array (int32 by default)\n",
    "arr = np.array([1, 2, 3, 4])\n",
    "print(\"Original dtype:\", arr.dtype)  # int32 (or int64 depending on system)\n",
    "\n",
    "# Convert to float\n",
    "float_arr = arr.astype(np.float32)\n",
    "print(\"\\nAs float32:\", float_arr)\n",
    "print(\"New dtype:\", float_arr.dtype)\n",
    "\n",
    "# Convert to string\n",
    "str_arr = arr.astype(str)\n",
    "print(\"\\nAs strings:\", str_arr)\n",
    "print(\"New dtype:\", str_arr.dtype)  # <U11 (Unicode string, max length 11)\n",
    "\n",
    "# Convert to boolean (0 becomes False, non-zero True)\n",
    "bool_arr = arr.astype(bool)\n",
    "print(\"\\nAs boolean:\", bool_arr)"
   ]
  },
  {
   "cell_type": "markdown",
   "id": "82033bde-f175-4a9a-8e13-66e04748d666",
   "metadata": {},
   "source": [
    "**Note:** NumPy Methods (Only Work as arr.method())"
   ]
  },
  {
   "cell_type": "code",
   "execution_count": null,
   "id": "74efc92e-6fb4-4ac4-b1a6-88471fcb5cc3",
   "metadata": {},
   "outputs": [
    {
     "data": {
      "text/plain": [
       "dtype('int64')"
      ]
     },
     "execution_count": 20,
     "metadata": {},
     "output_type": "execute_result"
    }
   ],
   "source": [
    "import numpy as np\n",
    "arr = np.array([[1, 2], [3, 4]])\n",
    "\n",
    "# 1. Shape Manipulation\n",
    "arr.reshape(4,)      # New shape (no data copy)\n",
    "arr.resize(3, 3)     # In-place shape change (may pad zeros)\n",
    "arr.T                # Transpose shortcut (same as arr.transpose())\n",
    "\n",
    "# 2. Data Handling\n",
    "arr.flatten()        # 1D copy (vs np.ravel() which may return view)\n",
    "arr.sort()           # In-place sort\n",
    "arr.fill(0)          # Replace all values with 0\n",
    "\n",
    "# 3. Conversion/Copying\n",
    "arr.tolist()         # Convert to Python list\n",
    "arr.copy()           # Deep copy\n",
    "arr.dump('file.npy') # Save to file (pickle format)\n",
    "\n",
    "arr.shape      # (2, 3)\n",
    "arr.ndim  # 2\n",
    "arr.size        # 6\n",
    "arr.dtype  # int64 (or float64 if decimals)"
   ]
  }
 ],
 "metadata": {
  "kernelspec": {
   "display_name": "Python 3 (ipykernel)",
   "language": "python",
   "name": "python3"
  },
  "language_info": {
   "codemirror_mode": {
    "name": "ipython",
    "version": 3
   },
   "file_extension": ".py",
   "mimetype": "text/x-python",
   "name": "python",
   "nbconvert_exporter": "python",
   "pygments_lexer": "ipython3",
   "version": "3.13.2"
  }
 },
 "nbformat": 4,
 "nbformat_minor": 5
}
